{
 "cells": [
  {
   "cell_type": "markdown",
   "metadata": {},
   "source": [
    "BASICS\n",
    "\n",
    "math operators:\n",
    "    ** = exponent\n",
    "    var += 1 or -= 1 or *= 1 etc\n",
    "\n",
    "variable naming:\n",
    "    1. can't begin with number\n",
    "    2. can use letters, numbers, underscores\n",
    "\n",
    "comments:\n",
    "    # comments\n",
    "    ''' function docstring '''\n",
    "\n",
    "comparison and boolean operators\n",
    "\n",
    "    == \n",
    "    != = not equal to\n",
    "    <= = less than or equal to\n",
    "    >= = greater than or equal to\n",
    "    is = == for boolean\n",
    "    is not = != for boolean\n",
    "    \n",
    "    and\n",
    "    or\n",
    "    not\n",
    "\n",
    "conditional loops:\n",
    "    if:\n",
    "    elif:\n",
    "    else:\n",
    "    \n",
    "    while:\n",
    "    \n",
    "    for i in range(0,10,1):\n",
    "        \n",
    "    break = exit a for or while loop, if executed inside loop else is skipped\n",
    "    continue = skip current block and return to for or while statement"
   ]
  },
  {
   "cell_type": "markdown",
   "metadata": {},
   "source": [
    "LISTS []\n",
    "\n",
    "indexing starts at 0\n",
    "    mylist[0]\n",
    "    \n",
    "mylist.append(thing)\n",
    "mylist.insert(index, thing)\n",
    "mylist.index(thing) -> index of first instance of thing\n",
    "mylist.sort() -> sorts numerically or alphabetically"
   ]
  },
  {
   "cell_type": "markdown",
   "metadata": {},
   "source": [
    "IMPORT/EXPORT CSV FILES\n",
    "\n",
    "using pandas:\n",
    "    import pandas as pd\n",
    "    reading:\n",
    "    object = pd.read_csv(\"filename.csv\", sep = \"delimiter\")\n",
    "    object = pd.read_csv(\"filename.csv\", nrows = #) number of rows to be read\n",
    "    exporting:\n",
    "    object.to_csv(\"filename,csv\", sep = \"delimiter\")\n",
    "    \n",
    "opening files: f = open(\"filename\", \"mode\")\n",
    "    modes: r = reading, w = writing, a = appending, r+, a+\n",
    "reading files: f = open(\"filename\", \"r\")\n",
    "    f.read() or f.readline()\n",
    "writing to files (overwriting not appending): f = open(\"filename\", \"w\")\n",
    "    f.write(\"text\")\n",
    "    f.close()\n",
    "with statment: with open(\"filename\",\"mode\") as f:\n",
    "\n",
    "using built in CSV library:\n",
    "    import csv\n",
    "    reading:\n",
    "    with open (\"filename.csv\",\"r\") as myFile:\n",
    "    myFileReader = csv.reader(myFile, delimiter = \",\")\n",
    "    for row in myFileReader:\n",
    "    writing:\n",
    "    with open (\"filename.csv\",\"w\") as myFile:\n",
    "    myFileWriter = csv.writer(myFile, delimiter = \",\")\n",
    "    myFileWriter.writerow(things)"
   ]
  },
  {
   "cell_type": "code",
   "execution_count": null,
   "metadata": {},
   "outputs": [],
   "source": []
  },
  {
   "cell_type": "markdown",
   "metadata": {},
   "source": [
    "DATA STRUCTURES "
   ]
  },
  {
   "cell_type": "markdown",
   "metadata": {},
   "source": [
    "DATA FRAMES"
   ]
  },
  {
   "cell_type": "markdown",
   "metadata": {},
   "source": [
    "SCIKIT-LEARN"
   ]
  },
  {
   "cell_type": "markdown",
   "metadata": {},
   "source": [
    "STATSMODELS"
   ]
  }
 ],
 "metadata": {
  "kernelspec": {
   "display_name": "Python 3",
   "language": "python",
   "name": "python3"
  },
  "language_info": {
   "codemirror_mode": {
    "name": "ipython",
    "version": 3
   },
   "file_extension": ".py",
   "mimetype": "text/x-python",
   "name": "python",
   "nbconvert_exporter": "python",
   "pygments_lexer": "ipython3",
   "version": "3.7.6"
  }
 },
 "nbformat": 4,
 "nbformat_minor": 4
}
