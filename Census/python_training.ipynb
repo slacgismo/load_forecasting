{
 "cells": [
  {
   "cell_type": "code",
   "execution_count": 1,
   "metadata": {},
   "outputs": [],
   "source": [
    "myint = 7"
   ]
  },
  {
   "cell_type": "code",
   "execution_count": 2,
   "metadata": {},
   "outputs": [
    {
     "name": "stdout",
     "output_type": "stream",
     "text": [
      "7\n"
     ]
    }
   ],
   "source": [
    "print(myint)"
   ]
  },
  {
   "cell_type": "code",
   "execution_count": 3,
   "metadata": {},
   "outputs": [],
   "source": [
    "myfloat = 7.0 "
   ]
  },
  {
   "cell_type": "code",
   "execution_count": 4,
   "metadata": {},
   "outputs": [
    {
     "name": "stdout",
     "output_type": "stream",
     "text": [
      "7.0\n"
     ]
    }
   ],
   "source": [
    "print(myfloat)"
   ]
  },
  {
   "cell_type": "code",
   "execution_count": 5,
   "metadata": {},
   "outputs": [],
   "source": [
    "mystring = 'hello'"
   ]
  },
  {
   "cell_type": "code",
   "execution_count": 6,
   "metadata": {},
   "outputs": [
    {
     "name": "stdout",
     "output_type": "stream",
     "text": [
      "hello\n"
     ]
    }
   ],
   "source": [
    "print(mystring)"
   ]
  },
  {
   "cell_type": "code",
   "execution_count": 7,
   "metadata": {},
   "outputs": [],
   "source": [
    "one = 1"
   ]
  },
  {
   "cell_type": "code",
   "execution_count": 9,
   "metadata": {},
   "outputs": [],
   "source": [
    "two = 2"
   ]
  },
  {
   "cell_type": "code",
   "execution_count": 10,
   "metadata": {},
   "outputs": [],
   "source": [
    "three = one + two"
   ]
  },
  {
   "cell_type": "code",
   "execution_count": 11,
   "metadata": {},
   "outputs": [
    {
     "name": "stdout",
     "output_type": "stream",
     "text": [
      "3\n"
     ]
    }
   ],
   "source": [
    "print(three)"
   ]
  },
  {
   "cell_type": "code",
   "execution_count": 12,
   "metadata": {},
   "outputs": [],
   "source": [
    "a, b = 3, 4"
   ]
  },
  {
   "cell_type": "code",
   "execution_count": 13,
   "metadata": {},
   "outputs": [
    {
     "name": "stdout",
     "output_type": "stream",
     "text": [
      "(3, 4)\n"
     ]
    }
   ],
   "source": [
    "print(a, b)"
   ]
  },
  {
   "cell_type": "code",
   "execution_count": 14,
   "metadata": {},
   "outputs": [],
   "source": [
    "mystring = 'hello'\n",
    "myfloat = 10.0\n",
    "myint = 20"
   ]
  },
  {
   "cell_type": "code",
   "execution_count": 16,
   "metadata": {},
   "outputs": [
    {
     "name": "stdout",
     "output_type": "stream",
     "text": [
      "String: hello\n"
     ]
    }
   ],
   "source": [
    "#testingcode\n",
    "print(\"String: %s\" % mystring)"
   ]
  },
  {
   "cell_type": "code",
   "execution_count": 17,
   "metadata": {},
   "outputs": [
    {
     "name": "stdout",
     "output_type": "stream",
     "text": [
      "Float: 10.000000\n"
     ]
    }
   ],
   "source": [
    "print(\"Float: %f\" % myfloat)"
   ]
  },
  {
   "cell_type": "code",
   "execution_count": 18,
   "metadata": {},
   "outputs": [
    {
     "name": "stdout",
     "output_type": "stream",
     "text": [
      "Integer: 20\n"
     ]
    }
   ],
   "source": [
    " print(\"Integer: %d\" % myint)"
   ]
  },
  {
   "cell_type": "code",
   "execution_count": 19,
   "metadata": {},
   "outputs": [
    {
     "name": "stdout",
     "output_type": "stream",
     "text": [
      "1\n",
      "2\n",
      "3\n",
      "1\n",
      "2\n",
      "3\n"
     ]
    }
   ],
   "source": [
    "mylist = []\n",
    "mylist.append(1)\n",
    "mylist.append(2)\n",
    "mylist.append(3)\n",
    "print(mylist[0]) # prints 1\n",
    "print(mylist[1]) # prints 2\n",
    "print(mylist[2]) # prints 3\n",
    "\n",
    "# prints out 1,2,3\n",
    "for x in mylist:\n",
    "    print(x)"
   ]
  },
  {
   "cell_type": "code",
   "execution_count": 20,
   "metadata": {},
   "outputs": [
    {
     "name": "stdout",
     "output_type": "stream",
     "text": [
      "[1, 2, 3]\n",
      "['hello', 'world']\n",
      "The second name on the names list is Eric\n"
     ]
    }
   ],
   "source": [
    "numbers = []\n",
    "strings = []\n",
    "names = [\"John\", \"Eric\", \"Jessica\"]\n",
    "\n",
    "# write your code here\n",
    "numbers.append(1)\n",
    "numbers.append(2)\n",
    "numbers.append(3)\n",
    "\n",
    "strings.append(\"hello\")\n",
    "strings.append(\"world\")\n",
    "\n",
    "second_name = names[1]\n",
    "\n",
    "\n",
    "# this code should write out the filled arrays and the second name in the names list (Eric).\n",
    "print(numbers)\n",
    "print(strings)\n",
    "print(\"The second name on the names list is %s\" % second_name)"
   ]
  },
  {
   "cell_type": "code",
   "execution_count": 21,
   "metadata": {},
   "outputs": [
    {
     "name": "stdout",
     "output_type": "stream",
     "text": [
      "x_list contains 10 objects\n",
      "y_list contains 10 objects\n",
      "big_list contains 20 objects\n",
      "Almost there...\n",
      "Great!\n"
     ]
    }
   ],
   "source": [
    "x = object()\n",
    "y = object()\n",
    "\n",
    "# TODO: change this code\n",
    "x_list = [x] * 10\n",
    "y_list = [y] * 10\n",
    "big_list = x_list + y_list\n",
    "\n",
    "print(\"x_list contains %d objects\" % len(x_list))\n",
    "print(\"y_list contains %d objects\" % len(y_list))\n",
    "print(\"big_list contains %d objects\" % len(big_list))\n",
    "\n",
    "# testing code\n",
    "if x_list.count(x) == 10 and y_list.count(y) == 10:\n",
    "    print(\"Almost there...\")\n",
    "if big_list.count(x) == 10 and big_list.count(y) == 10:\n",
    "    print(\"Great!\")"
   ]
  },
  {
   "cell_type": "code",
   "execution_count": 27,
   "metadata": {},
   "outputs": [
    {
     "name": "stdout",
     "output_type": "stream",
     "text": [
      "Hello John Doe. Your current balance is $53.44.\n"
     ]
    }
   ],
   "source": [
    "data = (\"John\", \"Doe\", 53.44)\n",
    "format_string = \"Hello %s %s. Your current balance is $%s.\"\n",
    "\n",
    "print(format_string % data)"
   ]
  },
  {
   "cell_type": "code",
   "execution_count": 28,
   "metadata": {},
   "outputs": [
    {
     "name": "stdout",
     "output_type": "stream",
     "text": [
      "Length of s = 20\n",
      "The first occurrence of the letter a = 8\n",
      "a occurs 2 times\n",
      "The first five characters are 'Strin'\n",
      "The next five characters are 'gs ar'\n",
      "The thirteenth character is 'a'\n",
      "The characters with odd index are 'tig r wsm!'\n",
      "The last five characters are 'some!'\n",
      "String in uppercase: STRINGS ARE AWESOME!\n",
      "String in lowercase: strings are awesome!\n",
      "String starts with 'Str'. Good!\n",
      "String ends with 'ome!'. Good!\n",
      "Split the words of the string: ['Strings', 'are', 'awesome!']\n"
     ]
    }
   ],
   "source": [
    "s = \"Strings are awesome!\"\n",
    "# Length should be 20\n",
    "print(\"Length of s = %d\" % len(s))\n",
    "\n",
    "# First occurrence of \"a\" should be at index 8\n",
    "print(\"The first occurrence of the letter a = %d\" % s.index(\"a\"))\n",
    "\n",
    "# Number of a's should be 2\n",
    "print(\"a occurs %d times\" % s.count(\"a\"))\n",
    "\n",
    "# Slicing the string into bits\n",
    "print(\"The first five characters are '%s'\" % s[:5]) # Start to 5\n",
    "print(\"The next five characters are '%s'\" % s[5:10]) # 5 to 10\n",
    "print(\"The thirteenth character is '%s'\" % s[12]) # Just number 12\n",
    "print(\"The characters with odd index are '%s'\" %s[1::2]) #(0-based indexing)\n",
    "print(\"The last five characters are '%s'\" % s[-5:]) # 5th-from-last to end\n",
    "\n",
    "# Convert everything to uppercase\n",
    "print(\"String in uppercase: %s\" % s.upper())\n",
    "\n",
    "# Convert everything to lowercase\n",
    "print(\"String in lowercase: %s\" % s.lower())\n",
    "\n",
    "# Check how a string starts\n",
    "if s.startswith(\"Str\"):\n",
    "    print(\"String starts with 'Str'. Good!\")\n",
    "\n",
    "# Check how a string ends\n",
    "if s.endswith(\"ome!\"):\n",
    "    print(\"String ends with 'ome!'. Good!\")\n",
    "\n",
    "# Split the string into three separate strings,\n",
    "# each containing only a word\n",
    "print(\"Split the words of the string: %s\" % s.split(\" \"))"
   ]
  },
  {
   "cell_type": "code",
   "execution_count": 29,
   "metadata": {},
   "outputs": [
    {
     "name": "stdout",
     "output_type": "stream",
     "text": [
      "1\n",
      "2\n",
      "3\n",
      "4\n",
      "5\n",
      "6\n"
     ]
    }
   ],
   "source": [
    "# change this code\n",
    "number = 16\n",
    "second_number = 0\n",
    "first_array = [1,2,3]\n",
    "second_array = [1,2]\n",
    "\n",
    "if number > 15:\n",
    "    print(\"1\")\n",
    "\n",
    "if first_array:\n",
    "    print(\"2\")\n",
    "\n",
    "if len(second_array) == 2:\n",
    "    print(\"3\")\n",
    "\n",
    "if len(first_array) + len(second_array) == 5:\n",
    "    print(\"4\")\n",
    "\n",
    "if first_array and first_array[0] == 1:\n",
    "    print(\"5\")\n",
    "\n",
    "if not second_number:\n",
    "    print(\"6\")"
   ]
  },
  {
   "cell_type": "code",
   "execution_count": 30,
   "metadata": {},
   "outputs": [
    {
     "name": "stdout",
     "output_type": "stream",
     "text": [
      "402\n",
      "984\n",
      "360\n",
      "408\n",
      "980\n",
      "544\n",
      "390\n",
      "984\n",
      "592\n",
      "236\n",
      "942\n",
      "386\n",
      "462\n",
      "418\n",
      "344\n",
      "236\n",
      "566\n",
      "978\n",
      "328\n",
      "162\n",
      "758\n",
      "918\n"
     ]
    }
   ],
   "source": [
    "numbers = [\n",
    "    951, 402, 984, 651, 360, 69, 408, 319, 601, 485, 980, 507, 725, 547, 544,\n",
    "    615, 83, 165, 141, 501, 263, 617, 865, 575, 219, 390, 984, 592, 236, 105, 942, 941,\n",
    "    386, 462, 47, 418, 907, 344, 236, 375, 823, 566, 597, 978, 328, 615, 953, 345,\n",
    "    399, 162, 758, 219, 918, 237, 412, 566, 826, 248, 866, 950, 626, 949, 687, 217,\n",
    "    815, 67, 104, 58, 512, 24, 892, 894, 767, 553, 81, 379, 843, 831, 445, 742, 717,\n",
    "    958, 609, 842, 451, 688, 753, 854, 685, 93, 857, 440, 380, 126, 721, 328, 753, 470,\n",
    "    743, 527\n",
    "]\n",
    "\n",
    "# your code goes here\n",
    "for number in numbers:\n",
    "    if number == 237:\n",
    "        break\n",
    "\n",
    "    if number % 2 == 1:\n",
    "        continue\n",
    "\n",
    "    print(number)"
   ]
  },
  {
   "cell_type": "code",
   "execution_count": 31,
   "metadata": {},
   "outputs": [],
   "source": [
    "def my_function_with_args(username, greeting):\n",
    "    print(\"Hello, %s , From My Function!, I wish you %s\"%(username, greeting))"
   ]
  },
  {
   "cell_type": "code",
   "execution_count": 32,
   "metadata": {},
   "outputs": [
    {
     "name": "stdout",
     "output_type": "stream",
     "text": [
      "More organized code is a benefit of functions!\n",
      "More readable code is a benefit of functions!\n",
      "Easier code reuse is a benefit of functions!\n",
      "Allowing programmers to share and connect code together is a benefit of functions!\n"
     ]
    }
   ],
   "source": [
    "# Modify this function to return a list of strings as defined above\n",
    "def list_benefits():\n",
    "    return \"More organized code\", \"More readable code\", \"Easier code reuse\", \"Allowing programmers to share and connect code together\"\n",
    "\n",
    "# Modify this function to concatenate to each benefit - \" is a benefit of functions!\"\n",
    "def build_sentence(benefit):\n",
    "    return \"%s is a benefit of functions!\" % benefit\n",
    "\n",
    "\n",
    "def name_the_benefits_of_functions():\n",
    "    list_of_benefits = list_benefits()\n",
    "    for benefit in list_of_benefits:\n",
    "        print(build_sentence(benefit))\n",
    "\n",
    "name_the_benefits_of_functions()"
   ]
  },
  {
   "cell_type": "code",
   "execution_count": 33,
   "metadata": {},
   "outputs": [
    {
     "name": "stdout",
     "output_type": "stream",
     "text": [
      "Fer is a red convertible worth $60000.00.\n",
      "Jump is a blue van worth $10000.00.\n"
     ]
    }
   ],
   "source": [
    "# define the Vehicle class\n",
    "class Vehicle:\n",
    "    name = \"\"\n",
    "    kind = \"car\"\n",
    "    color = \"\"\n",
    "    value = 100.00\n",
    "    def description(self):\n",
    "        desc_str = \"%s is a %s %s worth $%.2f.\" % (self.name, self.color, self.kind, self.value)\n",
    "        return desc_str\n",
    "\n",
    "# your code goes here\n",
    "car1 = Vehicle()\n",
    "car1.name = \"Fer\"\n",
    "car1.color = \"red\"\n",
    "car1.kind = \"convertible\"\n",
    "car1.value = 60000.00\n",
    "\n",
    "car2 = Vehicle()\n",
    "car2.name = \"Jump\"\n",
    "car2.color = \"blue\"\n",
    "car2.kind = \"van\"\n",
    "car2.value = 10000.00\n",
    "\n",
    "# test code\n",
    "print(car1.description())\n",
    "print(car2.description())"
   ]
  },
  {
   "cell_type": "code",
   "execution_count": 34,
   "metadata": {},
   "outputs": [
    {
     "name": "stdout",
     "output_type": "stream",
     "text": [
      "Jake is listed in the phonebook.\n",
      "Jill is not listed in the phonebook.\n"
     ]
    }
   ],
   "source": [
    "phonebook = {\n",
    "    \"John\" : 938477566,\n",
    "    \"Jack\" : 938377264,\n",
    "    \"Jill\" : 947662781\n",
    "}\n",
    "\n",
    "# write your code here\n",
    "phonebook[\"Jake\"] = 938273443\n",
    "del phonebook[\"Jill\"]\n",
    "\n",
    "# testing code\n",
    "if \"Jake\" in phonebook:\n",
    "    print(\"Jake is listed in the phonebook.\")\n",
    "if \"Jill\" not in phonebook:\n",
    "    print(\"Jill is not listed in the phonebook.\")"
   ]
  },
  {
   "cell_type": "code",
   "execution_count": null,
   "metadata": {},
   "outputs": [],
   "source": []
  }
 ],
 "metadata": {
  "kernelspec": {
   "display_name": "Python 2",
   "language": "python",
   "name": "python2"
  },
  "language_info": {
   "codemirror_mode": {
    "name": "ipython",
    "version": 2
   },
   "file_extension": ".py",
   "mimetype": "text/x-python",
   "name": "python",
   "nbconvert_exporter": "python",
   "pygments_lexer": "ipython2",
   "version": "2.7.16"
  }
 },
 "nbformat": 4,
 "nbformat_minor": 2
}
