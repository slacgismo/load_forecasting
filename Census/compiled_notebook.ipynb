{
 "cells": [
  {
   "cell_type": "code",
   "execution_count": 1,
   "metadata": {},
   "outputs": [],
   "source": [
    "import numpy as np\n",
    "import pandas as pd"
   ]
  },
  {
   "cell_type": "code",
   "execution_count": 2,
   "metadata": {},
   "outputs": [],
   "source": [
    "import csv\n",
    "import matplotlib.pyplot as plt\n",
    "import os \n",
    "import scipy.stats"
   ]
  },
  {
   "cell_type": "code",
   "execution_count": null,
   "metadata": {},
   "outputs": [],
   "source": []
  },
  {
   "cell_type": "code",
   "execution_count": 3,
   "metadata": {},
   "outputs": [],
   "source": [
    "input_dir= 'C:/Users/veronikalubeck/Desktop/Data/RBSA-II-Combined-Database'\n",
    "\n",
    "os.chdir('/Users/veronikalubeck/Desktop/Data/RBSA-II-Combined-Database')\n",
    "df1=pd.read_csv('SiteDetail.csv')\n"
   ]
  },
  {
   "cell_type": "code",
   "execution_count": 4,
   "metadata": {},
   "outputs": [],
   "source": [
    "input_dir= 'C:/Users/veronikalubeck/Desktop/Data/RBSA-II-Combined-Database'\n",
    "\n",
    "os.chdir('/Users/veronikalubeck/Desktop/Data/RBSA-II-Combined-Database')\n",
    "data=pd.read_csv('Lighting.csv')\n"
   ]
  },
  {
   "cell_type": "code",
   "execution_count": 5,
   "metadata": {},
   "outputs": [],
   "source": [
    "data_filtered=data[data.CK_SiteID==\"BLDG_00158\"]\n",
    "mean_wattage=np.mean(np.array(data_filtered.Wattage))"
   ]
  },
  {
   "cell_type": "code",
   "execution_count": 6,
   "metadata": {},
   "outputs": [
    {
     "name": "stdout",
     "output_type": "stream",
     "text": [
      "0.0\n"
     ]
    }
   ],
   "source": [
    "print(mean_wattage)"
   ]
  },
  {
   "cell_type": "raw",
   "metadata": {},
   "source": []
  },
  {
   "cell_type": "code",
   "execution_count": 271,
   "metadata": {},
   "outputs": [],
   "source": [
    "input_dir= 'C:/Users/veronikalubeck/Desktop/Data/RBSA-II-Combined-Database'\n",
    "\n",
    "os.chdir('/Users/veronikalubeck/Desktop/Data/RBSA-II-Combined-Database')\n",
    "data=pd.read_csv('Appliance_AudioEquipment.csv')"
   ]
  },
  {
   "cell_type": "code",
   "execution_count": 272,
   "metadata": {},
   "outputs": [],
   "source": [
    "data_filtered=data[data.CK_SiteID==\"SITE_01906\"]\n",
    "mean_audio=np.mean(np.array(data_filtered.Audio))"
   ]
  },
  {
   "cell_type": "code",
   "execution_count": 273,
   "metadata": {},
   "outputs": [
    {
     "name": "stdout",
     "output_type": "stream",
     "text": [
      "nan\n"
     ]
    }
   ],
   "source": [
    "print(mean_audio)"
   ]
  },
  {
   "cell_type": "code",
   "execution_count": 279,
   "metadata": {},
   "outputs": [],
   "source": [
    "input_dir= 'C:/Users/veronikalubeck/Desktop/Data/RBSA-II-Combined-Database'\n",
    "\n",
    "os.chdir('/Users/veronikalubeck/Desktop/Data/RBSA-II-Combined-Database')\n",
    "data=pd.read_csv('Mechanical_Cooling.csv')"
   ]
  },
  {
   "cell_type": "code",
   "execution_count": 517,
   "metadata": {},
   "outputs": [],
   "source": [
    "data_filtered=data[data.CK_SiteID==\"BLDG_00158\"]\n",
    "mean_cooling=np.mean(np.array(data_filtered.Cooling))"
   ]
  },
  {
   "cell_type": "code",
   "execution_count": 518,
   "metadata": {},
   "outputs": [
    {
     "name": "stdout",
     "output_type": "stream",
     "text": [
      "nan\n"
     ]
    }
   ],
   "source": [
    "print(mean_cooling)"
   ]
  },
  {
   "cell_type": "code",
   "execution_count": 587,
   "metadata": {},
   "outputs": [],
   "source": [
    "input_dir= 'C:/Users/veronikalubeck/Desktop/Data/RBSA-II-Combined-Database'\n",
    "\n",
    "os.chdir('/Users/veronikalubeck/Desktop/Data/RBSA-II-Combined-Database')\n",
    "data=pd.read_csv('Windows.csv')"
   ]
  },
  {
   "cell_type": "code",
   "execution_count": 621,
   "metadata": {},
   "outputs": [],
   "source": [
    "data_filtered=data[data.DB_SiteID==\"SITE_00185\"]\n",
    "mean_windows=np.mean(np.array([float(m) for m in data_filtered['Window UA']]))"
   ]
  },
  {
   "cell_type": "code",
   "execution_count": 622,
   "metadata": {},
   "outputs": [
    {
     "name": "stdout",
     "output_type": "stream",
     "text": [
      "6.760650252525251\n"
     ]
    }
   ],
   "source": [
    "print(mean_windows)"
   ]
  },
  {
   "cell_type": "code",
   "execution_count": null,
   "metadata": {},
   "outputs": [],
   "source": []
  },
  {
   "cell_type": "code",
   "execution_count": null,
   "metadata": {},
   "outputs": [],
   "source": []
  },
  {
   "cell_type": "code",
   "execution_count": null,
   "metadata": {},
   "outputs": [],
   "source": []
  },
  {
   "cell_type": "code",
   "execution_count": 10,
   "metadata": {},
   "outputs": [
    {
     "name": "stdout",
     "output_type": "stream",
     "text": [
      "         PK_Mechanical_ID   CK_SiteID           System Type  \\\n",
      "0     Mechanical_00000003  BLDG_00076           Air Handler   \n",
      "1     Mechanical_00000004  BLDG_00221  Air Source Heat Pump   \n",
      "2     Mechanical_00000006  SITE_00239  Air Source Heat Pump   \n",
      "3     Mechanical_00000007  SITE_00245  Air Source Heat Pump   \n",
      "4     Mechanical_00000008  SITE_00246  Air Source Heat Pump   \n",
      "5     Mechanical_00000009  SITE_00248  Air Source Heat Pump   \n",
      "6     Mechanical_00000010  SITE_00253  Air Source Heat Pump   \n",
      "7     Mechanical_00000011  SITE_00255  Air Source Heat Pump   \n",
      "8     Mechanical_00000013  SITE_00258  Air Source Heat Pump   \n",
      "9     Mechanical_00000014  SITE_00263  Air Source Heat Pump   \n",
      "10    Mechanical_00000015  SITE_00264  Air Source Heat Pump   \n",
      "11    Mechanical_00000016  SITE_00273  Air Source Heat Pump   \n",
      "12    Mechanical_00000017  SITE_00275  Air Source Heat Pump   \n",
      "13    Mechanical_00000018  SITE_00290  Air Source Heat Pump   \n",
      "14    Mechanical_00000019  SITE_00331  Air Source Heat Pump   \n",
      "15    Mechanical_00000020  SITE_00337  Air Source Heat Pump   \n",
      "16    Mechanical_00000021  SITE_00371  Air Source Heat Pump   \n",
      "17    Mechanical_00000022  SITE_00973  Air Source Heat Pump   \n",
      "18    Mechanical_00000023  SITE_01023  Air Source Heat Pump   \n",
      "19    Mechanical_00000024  SITE_01367  Air Source Heat Pump   \n",
      "20    Mechanical_00000025  SITE_01385  Air Source Heat Pump   \n",
      "21    Mechanical_00000026  SITE_01388  Air Source Heat Pump   \n",
      "22    Mechanical_00000027  SITE_01394  Air Source Heat Pump   \n",
      "23    Mechanical_00000028  SITE_01395  Air Source Heat Pump   \n",
      "24    Mechanical_00000029  SITE_01436  Air Source Heat Pump   \n",
      "25    Mechanical_00000030  SITE_01444  Air Source Heat Pump   \n",
      "26    Mechanical_00000031  SITE_01452  Air Source Heat Pump   \n",
      "27    Mechanical_00000032  SITE_01452  Air Source Heat Pump   \n",
      "28    Mechanical_00000033  SITE_01468  Air Source Heat Pump   \n",
      "29    Mechanical_00000034  SITE_01468  Air Source Heat Pump   \n",
      "...                   ...         ...                   ...   \n",
      "1238  Mechanical_00015421  SITE_00472           Packaged AC   \n",
      "1239  Mechanical_00015422  SITE_00480           Packaged AC   \n",
      "1240  Mechanical_00015423  SITE_00480           Packaged AC   \n",
      "1241  Mechanical_00015424  SITE_00482           Packaged AC   \n",
      "1242  Mechanical_00015425  SITE_00483           Packaged AC   \n",
      "1243  Mechanical_00015426  SITE_00490           Packaged AC   \n",
      "1244  Mechanical_00015427  SITE_01249           Packaged AC   \n",
      "1245  Mechanical_00015428  SITE_01252           Packaged AC   \n",
      "1246  Mechanical_00015429  SITE_01450           Packaged AC   \n",
      "1247  Mechanical_00015430  SITE_01479           Packaged AC   \n",
      "1248  Mechanical_00015431  SITE_00112           Packaged HP   \n",
      "1249  Mechanical_00015432  SITE_01250           Packaged HP   \n",
      "1250  Mechanical_00015433  BLDG_00531         Mini-Split HP   \n",
      "1251  Mechanical_00015519  SITE_01696         Mini-Split HP   \n",
      "1252  Mechanical_00015530  SITE_00306  Air Source Heat Pump   \n",
      "1253  Mechanical_00015555  BLDG_00177         Mini-Split HP   \n",
      "1254  Mechanical_00015568  SITE_00407  Air Source Heat Pump   \n",
      "1255  Mechanical_00015571  SITE_00408  Air Source Heat Pump   \n",
      "1256  Mechanical_00015573  SITE_00408  Air Source Heat Pump   \n",
      "1257  Mechanical_00015575  SITE_00579  Air Source Heat Pump   \n",
      "1258  Mechanical_00015579  SITE_00695  Air Source Heat Pump   \n",
      "1259  Mechanical_00015582  SITE_00739  Air Source Heat Pump   \n",
      "1260  Mechanical_00015584  SITE_01332  Air Source Heat Pump   \n",
      "1261  Mechanical_00015593  SITE_02069           Packaged AC   \n",
      "1262  Mechanical_00015596  SITE_01833            Central AC   \n",
      "1263  Mechanical_00015597  BLDG_00113            Central AC   \n",
      "1264  Mechanical_00015612  SITE_00017           Packaged AC   \n",
      "1265  Mechanical_00015613  SITE_00322           Packaged AC   \n",
      "1266  Mechanical_00015614  SITE_00322           Packaged AC   \n",
      "1267  Mechanical_00015615  SITE_00322           Packaged AC   \n",
      "\n",
      "                   System Sub-Type  Quantity Quantity_notes  \\\n",
      "0                              NaN       1.0            NaN   \n",
      "1                              NaN       1.0            NaN   \n",
      "2                              NaN       NaN            NaN   \n",
      "3                              NaN       NaN            NaN   \n",
      "4                              NaN       NaN            NaN   \n",
      "5                              NaN       NaN            NaN   \n",
      "6                              NaN       NaN            NaN   \n",
      "7                              NaN       NaN            NaN   \n",
      "8                              NaN       NaN            NaN   \n",
      "9                              NaN       NaN            NaN   \n",
      "10                             NaN       NaN            NaN   \n",
      "11                             NaN       NaN            NaN   \n",
      "12                             NaN       NaN            NaN   \n",
      "13                             NaN       NaN            NaN   \n",
      "14                             NaN       NaN            NaN   \n",
      "15                             NaN       NaN            NaN   \n",
      "16                             NaN       NaN            NaN   \n",
      "17               Dual Fuel Primary       NaN            NaN   \n",
      "18             Dual Fuel Secondary       NaN            NaN   \n",
      "19                             NaN       NaN            NaN   \n",
      "20                             NaN       NaN            NaN   \n",
      "21                             NaN       NaN            NaN   \n",
      "22                             NaN       NaN            NaN   \n",
      "23                             NaN       NaN            NaN   \n",
      "24                             NaN       NaN            NaN   \n",
      "25                             NaN       NaN            NaN   \n",
      "26                             NaN       NaN            NaN   \n",
      "27                             NaN       NaN            NaN   \n",
      "28                             NaN       NaN            NaN   \n",
      "29                             NaN       NaN            NaN   \n",
      "...                            ...       ...            ...   \n",
      "1238        Window Air Conditioner       1.0            NaN   \n",
      "1239  Through-Wall Air Conditioner       1.0            NaN   \n",
      "1240  Through-Wall Air Conditioner       1.0            NaN   \n",
      "1241  Through-Wall Air Conditioner       2.0            NaN   \n",
      "1242  Through-Wall Air Conditioner       1.0            NaN   \n",
      "1243  Through-Wall Air Conditioner       2.0            NaN   \n",
      "1244      Portable Air Conditioner       1.0            NaN   \n",
      "1245      Portable Air Conditioner       1.0            NaN   \n",
      "1246                           NaN       NaN        Unknown   \n",
      "1247                           Fan       1.0            NaN   \n",
      "1248        Through-Wall Heat Pump       1.0            NaN   \n",
      "1249        Through-Wall Heat Pump       1.0            NaN   \n",
      "1250                           NaN       NaN            NaN   \n",
      "1251                           NaN       NaN        Unknown   \n",
      "1252                           NaN       NaN        Unknown   \n",
      "1253                           NaN       NaN        Unknown   \n",
      "1254           Dual Fuel Secondary       NaN            NaN   \n",
      "1255           Dual Fuel Secondary       NaN            NaN   \n",
      "1256           Dual Fuel Secondary       NaN            NaN   \n",
      "1257           Dual Fuel Secondary       NaN            NaN   \n",
      "1258             Dual Fuel Primary       NaN            NaN   \n",
      "1259                           NaN       NaN            NaN   \n",
      "1260           Dual Fuel Secondary       NaN            NaN   \n",
      "1261        Window Air Conditioner       1.0            NaN   \n",
      "1262                           NaN       NaN            NaN   \n",
      "1263                           NaN       1.0            NaN   \n",
      "1264        Window Air Conditioner       1.0            NaN   \n",
      "1265        Window Air Conditioner       1.0            NaN   \n",
      "1266        Window Air Conditioner       1.0            NaN   \n",
      "1267        Window Air Conditioner       1.0            NaN   \n",
      "\n",
      "     Primary Cooling System                 Control Type Zones Served  \\\n",
      "0                       NaN                          NaN          NaN   \n",
      "1                   Unknown                      Unknown      Unknown   \n",
      "2                       Yes      Programmable Thermostat   Whole Home   \n",
      "3                       Yes      Programmable Thermostat   Whole Home   \n",
      "4                       Yes      Programmable Thermostat   Whole Home   \n",
      "5                       Yes   Manual Thermostat - Analog   Whole Home   \n",
      "6                       Yes   Manual Thermostat - Analog   Whole Home   \n",
      "7                       Yes      Programmable Thermostat   Whole Home   \n",
      "8                       Yes      Programmable Thermostat   Whole Home   \n",
      "9                       Yes      Programmable Thermostat   Whole Home   \n",
      "10                      Yes      Programmable Thermostat   Whole Home   \n",
      "11                      Yes      Programmable Thermostat   Whole Home   \n",
      "12                      Yes  Manual Thermostat - Digital   Whole Home   \n",
      "13                       No      Programmable Thermostat   Whole Home   \n",
      "14                      Yes   Manual Thermostat - Analog   Whole Home   \n",
      "15                      Yes  Manual Thermostat - Digital   Whole Home   \n",
      "16                      Yes  Manual Thermostat - Digital   Whole Home   \n",
      "17                      Yes       Smart/Wi-Fi Thermostat   Whole Home   \n",
      "18                      Yes      Programmable Thermostat   Whole Home   \n",
      "19                      Yes  Manual Thermostat - Digital   Whole Home   \n",
      "20                      Yes   Manual Thermostat - Analog   Whole Home   \n",
      "21                      Yes   Manual Thermostat - Analog   Whole Home   \n",
      "22                      Yes  Manual Thermostat - Digital   Whole Home   \n",
      "23                      Yes  Manual Thermostat - Digital   Whole Home   \n",
      "24                      Yes       Smart/Wi-Fi Thermostat   Whole Home   \n",
      "25                      Yes      Programmable Thermostat   Whole Home   \n",
      "26                      Yes      Programmable Thermostat   Whole Home   \n",
      "27                       No  Manual Thermostat - Digital        Other   \n",
      "28                      Yes  Manual Thermostat - Digital   Whole Home   \n",
      "29                       No  Manual Thermostat - Digital   Whole Home   \n",
      "...                     ...                          ...          ...   \n",
      "1238                     No  Manual Thermostat - Digital      Unknown   \n",
      "1239                    Yes  Manual Thermostat - Digital      Unknown   \n",
      "1240                     No  Manual Thermostat - Digital      Unknown   \n",
      "1241                    Yes  Manual Thermostat - Digital      Unknown   \n",
      "1242                    Yes  Manual Thermostat - Digital      Unknown   \n",
      "1243                    Yes  Manual Thermostat - Digital      Unknown   \n",
      "1244                    Yes   Manual Thermostat - Analog      Unknown   \n",
      "1245                    Yes  Manual Thermostat - Digital      Unknown   \n",
      "1246                Unknown                      Unknown      Unknown   \n",
      "1247                     No                      Unknown      Unknown   \n",
      "1248                    Yes      Programmable Thermostat          NaN   \n",
      "1249                    Yes  Manual Thermostat - Digital          NaN   \n",
      "1250                    Yes  Manual Thermostat - Digital      Unknown   \n",
      "1251                Unknown                      Unknown      Unknown   \n",
      "1252                    Yes  Manual Thermostat - Digital   Whole Home   \n",
      "1253                Unknown                      Unknown      Unknown   \n",
      "1254                    Yes      Programmable Thermostat        Other   \n",
      "1255                    Yes       Smart/Wi-Fi Thermostat        Other   \n",
      "1256                    Yes       Smart/Wi-Fi Thermostat        Other   \n",
      "1257                    Yes      Programmable Thermostat          NaN   \n",
      "1258                    Yes       Smart/Wi-Fi Thermostat          NaN   \n",
      "1259                    Yes      Programmable Thermostat          NaN   \n",
      "1260                    Yes      Programmable Thermostat          NaN   \n",
      "1261                    Yes   Manual Thermostat - Analog      Unknown   \n",
      "1262                    Yes      Programmable Thermostat   Whole Home   \n",
      "1263                    Yes                      Unknown      Unknown   \n",
      "1264                    Yes   Manual Thermostat - Analog      Unknown   \n",
      "1265                    Yes   Manual Thermostat - Analog      Unknown   \n",
      "1266                    Yes   Manual Thermostat - Analog      Unknown   \n",
      "1267                    Yes  Manual Thermostat - Digital      Unknown   \n",
      "\n",
      "     Cooling Fuel  ...  DMSHP EER 4 DMSHP EER 4_notes DMSHP EER 4 Type  \\\n",
      "0              DX  ...          NaN               NaN              NaN   \n",
      "1        Electric  ...          NaN               NaN              NaN   \n",
      "2        Electric  ...          NaN               NaN              NaN   \n",
      "3        Electric  ...          NaN               NaN              NaN   \n",
      "4        Electric  ...          NaN               NaN              NaN   \n",
      "5        Electric  ...          NaN               NaN              NaN   \n",
      "6        Electric  ...          NaN               NaN              NaN   \n",
      "7        Electric  ...          NaN               NaN              NaN   \n",
      "8        Electric  ...          NaN               NaN              NaN   \n",
      "9        Electric  ...          NaN               NaN              NaN   \n",
      "10       Electric  ...          NaN               NaN              NaN   \n",
      "11       Electric  ...          NaN               NaN              NaN   \n",
      "12       Electric  ...          NaN               NaN              NaN   \n",
      "13       Electric  ...          NaN               NaN              NaN   \n",
      "14       Electric  ...          NaN               NaN              NaN   \n",
      "15       Electric  ...          NaN               NaN              NaN   \n",
      "16       Electric  ...          NaN               NaN              NaN   \n",
      "17       Electric  ...          NaN               NaN              NaN   \n",
      "18       Electric  ...          NaN               NaN              NaN   \n",
      "19       Electric  ...          NaN               NaN              NaN   \n",
      "20       Electric  ...          NaN               NaN              NaN   \n",
      "21       Electric  ...          NaN               NaN              NaN   \n",
      "22       Electric  ...          NaN               NaN              NaN   \n",
      "23       Electric  ...          NaN               NaN              NaN   \n",
      "24       Electric  ...          NaN               NaN              NaN   \n",
      "25       Electric  ...          NaN               NaN              NaN   \n",
      "26       Electric  ...          NaN               NaN              NaN   \n",
      "27       Electric  ...          NaN               NaN              NaN   \n",
      "28       Electric  ...          NaN               NaN              NaN   \n",
      "29       Electric  ...          NaN               NaN              NaN   \n",
      "...           ...  ...          ...               ...              ...   \n",
      "1238      Unknown  ...          NaN               NaN              NaN   \n",
      "1239      Unknown  ...          NaN               NaN              NaN   \n",
      "1240      Unknown  ...          NaN               NaN              NaN   \n",
      "1241      Unknown  ...          NaN               NaN              NaN   \n",
      "1242      Unknown  ...          NaN               NaN              NaN   \n",
      "1243      Unknown  ...          NaN               NaN              NaN   \n",
      "1244      Unknown  ...          NaN               NaN              NaN   \n",
      "1245      Unknown  ...          NaN               NaN              NaN   \n",
      "1246      Unknown  ...          NaN               NaN              NaN   \n",
      "1247      Unknown  ...          NaN               NaN              NaN   \n",
      "1248          NaN  ...          NaN               NaN              NaN   \n",
      "1249          NaN  ...          NaN               NaN              NaN   \n",
      "1250     Electric  ...          NaN           Unknown              NaN   \n",
      "1251          NaN  ...          NaN               NaN              NaN   \n",
      "1252     Electric  ...          NaN               NaN              NaN   \n",
      "1253          NaN  ...          NaN               NaN              NaN   \n",
      "1254     Electric  ...          NaN               NaN              NaN   \n",
      "1255     Electric  ...          NaN               NaN              NaN   \n",
      "1256     Electric  ...          NaN               NaN              NaN   \n",
      "1257     Electric  ...          NaN               NaN              NaN   \n",
      "1258     Electric  ...          NaN               NaN              NaN   \n",
      "1259     Electric  ...          NaN               NaN              NaN   \n",
      "1260     Electric  ...          NaN               NaN              NaN   \n",
      "1261      Unknown  ...          NaN               NaN              NaN   \n",
      "1262     Electric  ...          NaN               NaN              NaN   \n",
      "1263          NaN  ...          NaN               NaN              NaN   \n",
      "1264      Unknown  ...          NaN               NaN              NaN   \n",
      "1265      Unknown  ...          NaN               NaN              NaN   \n",
      "1266      Unknown  ...          NaN               NaN              NaN   \n",
      "1267      Unknown  ...          NaN               NaN              NaN   \n",
      "\n",
      "     DMSHP SEER 4  DMSHP SEER 4_notes DMSHP SEER 4 Type  \\\n",
      "0             NaN                 NaN               NaN   \n",
      "1             NaN                 NaN               NaN   \n",
      "2             NaN                 NaN               NaN   \n",
      "3             NaN                 NaN               NaN   \n",
      "4             NaN                 NaN               NaN   \n",
      "5             NaN                 NaN               NaN   \n",
      "6             NaN                 NaN               NaN   \n",
      "7             NaN                 NaN               NaN   \n",
      "8             NaN                 NaN               NaN   \n",
      "9             NaN                 NaN               NaN   \n",
      "10            NaN                 NaN               NaN   \n",
      "11            NaN                 NaN               NaN   \n",
      "12            NaN                 NaN               NaN   \n",
      "13            NaN                 NaN               NaN   \n",
      "14            NaN                 NaN               NaN   \n",
      "15            NaN                 NaN               NaN   \n",
      "16            NaN                 NaN               NaN   \n",
      "17            NaN                 NaN               NaN   \n",
      "18            NaN                 NaN               NaN   \n",
      "19            NaN                 NaN               NaN   \n",
      "20            NaN                 NaN               NaN   \n",
      "21            NaN                 NaN               NaN   \n",
      "22            NaN                 NaN               NaN   \n",
      "23            NaN                 NaN               NaN   \n",
      "24            NaN                 NaN               NaN   \n",
      "25            NaN                 NaN               NaN   \n",
      "26            NaN                 NaN               NaN   \n",
      "27            NaN                 NaN               NaN   \n",
      "28            NaN                 NaN               NaN   \n",
      "29            NaN                 NaN               NaN   \n",
      "...           ...                 ...               ...   \n",
      "1238          NaN                 NaN               NaN   \n",
      "1239          NaN                 NaN               NaN   \n",
      "1240          NaN                 NaN               NaN   \n",
      "1241          NaN                 NaN               NaN   \n",
      "1242          NaN                 NaN               NaN   \n",
      "1243          NaN                 NaN               NaN   \n",
      "1244          NaN                 NaN               NaN   \n",
      "1245          NaN                 NaN               NaN   \n",
      "1246          NaN                 NaN               NaN   \n",
      "1247          NaN                 NaN               NaN   \n",
      "1248          NaN                 NaN               NaN   \n",
      "1249          NaN                 NaN               NaN   \n",
      "1250          NaN             Unknown               NaN   \n",
      "1251          NaN                 NaN               NaN   \n",
      "1252          NaN                 NaN               NaN   \n",
      "1253          NaN                 NaN               NaN   \n",
      "1254          NaN                 NaN               NaN   \n",
      "1255          NaN                 NaN               NaN   \n",
      "1256          NaN                 NaN               NaN   \n",
      "1257          NaN                 NaN               NaN   \n",
      "1258          NaN                 NaN               NaN   \n",
      "1259          NaN                 NaN               NaN   \n",
      "1260          NaN                 NaN               NaN   \n",
      "1261          NaN                 NaN               NaN   \n",
      "1262          NaN                 NaN               NaN   \n",
      "1263          NaN                 NaN               NaN   \n",
      "1264          NaN                 NaN               NaN   \n",
      "1265          NaN                 NaN               NaN   \n",
      "1266          NaN                 NaN               NaN   \n",
      "1267          NaN                 NaN               NaN   \n",
      "\n",
      "     DMSHP Cooling Capacity 4  DMSHP Cooling Capacity 4_notes  \\\n",
      "0                         NaN                             NaN   \n",
      "1                         NaN                             NaN   \n",
      "2                         NaN                             NaN   \n",
      "3                         NaN                             NaN   \n",
      "4                         NaN                             NaN   \n",
      "5                         NaN                             NaN   \n",
      "6                         NaN                             NaN   \n",
      "7                         NaN                             NaN   \n",
      "8                         NaN                             NaN   \n",
      "9                         NaN                             NaN   \n",
      "10                        NaN                             NaN   \n",
      "11                        NaN                             NaN   \n",
      "12                        NaN                             NaN   \n",
      "13                        NaN                             NaN   \n",
      "14                        NaN                             NaN   \n",
      "15                        NaN                             NaN   \n",
      "16                        NaN                             NaN   \n",
      "17                        NaN                             NaN   \n",
      "18                        NaN                             NaN   \n",
      "19                        NaN                             NaN   \n",
      "20                        NaN                             NaN   \n",
      "21                        NaN                             NaN   \n",
      "22                        NaN                             NaN   \n",
      "23                        NaN                             NaN   \n",
      "24                        NaN                             NaN   \n",
      "25                        NaN                             NaN   \n",
      "26                        NaN                             NaN   \n",
      "27                        NaN                             NaN   \n",
      "28                        NaN                             NaN   \n",
      "29                        NaN                             NaN   \n",
      "...                       ...                             ...   \n",
      "1238                      NaN                             NaN   \n",
      "1239                      NaN                             NaN   \n",
      "1240                      NaN                             NaN   \n",
      "1241                      NaN                             NaN   \n",
      "1242                      NaN                             NaN   \n",
      "1243                      NaN                             NaN   \n",
      "1244                      NaN                             NaN   \n",
      "1245                      NaN                             NaN   \n",
      "1246                      NaN                             NaN   \n",
      "1247                      NaN                             NaN   \n",
      "1248                      NaN                             NaN   \n",
      "1249                      NaN                             NaN   \n",
      "1250                      NaN                         Unknown   \n",
      "1251                      NaN                             NaN   \n",
      "1252                      NaN                             NaN   \n",
      "1253                      NaN                             NaN   \n",
      "1254                      NaN                             NaN   \n",
      "1255                      NaN                             NaN   \n",
      "1256                      NaN                             NaN   \n",
      "1257                      NaN                             NaN   \n",
      "1258                      NaN                             NaN   \n",
      "1259                      NaN                             NaN   \n",
      "1260                      NaN                             NaN   \n",
      "1261                      NaN                             NaN   \n",
      "1262                      NaN                             NaN   \n",
      "1263                      NaN                             NaN   \n",
      "1264                      NaN                             NaN   \n",
      "1265                      NaN                             NaN   \n",
      "1266                      NaN                             NaN   \n",
      "1267                      NaN                             NaN   \n",
      "\n",
      "     DMSHP Cooling Capacity 4 Type  \\\n",
      "0                              NaN   \n",
      "1                              NaN   \n",
      "2                              NaN   \n",
      "3                              NaN   \n",
      "4                              NaN   \n",
      "5                              NaN   \n",
      "6                              NaN   \n",
      "7                              NaN   \n",
      "8                              NaN   \n",
      "9                              NaN   \n",
      "10                             NaN   \n",
      "11                             NaN   \n",
      "12                             NaN   \n",
      "13                             NaN   \n",
      "14                             NaN   \n",
      "15                             NaN   \n",
      "16                             NaN   \n",
      "17                             NaN   \n",
      "18                             NaN   \n",
      "19                             NaN   \n",
      "20                             NaN   \n",
      "21                             NaN   \n",
      "22                             NaN   \n",
      "23                             NaN   \n",
      "24                             NaN   \n",
      "25                             NaN   \n",
      "26                             NaN   \n",
      "27                             NaN   \n",
      "28                             NaN   \n",
      "29                             NaN   \n",
      "...                            ...   \n",
      "1238                           NaN   \n",
      "1239                           NaN   \n",
      "1240                           NaN   \n",
      "1241                           NaN   \n",
      "1242                           NaN   \n",
      "1243                           NaN   \n",
      "1244                           NaN   \n",
      "1245                           NaN   \n",
      "1246                           NaN   \n",
      "1247                           NaN   \n",
      "1248                           NaN   \n",
      "1249                           NaN   \n",
      "1250                           NaN   \n",
      "1251                           NaN   \n",
      "1252                           NaN   \n",
      "1253                           NaN   \n",
      "1254                           NaN   \n",
      "1255                           NaN   \n",
      "1256                           NaN   \n",
      "1257                           NaN   \n",
      "1258                           NaN   \n",
      "1259                           NaN   \n",
      "1260                           NaN   \n",
      "1261                           NaN   \n",
      "1262                           NaN   \n",
      "1263                           NaN   \n",
      "1264                           NaN   \n",
      "1265                           NaN   \n",
      "1266                           NaN   \n",
      "1267                           NaN   \n",
      "\n",
      "                                        Equipment Notes  \n",
      "0                                                   NaN  \n",
      "1                                                   NaN  \n",
      "2                                                   NaN  \n",
      "3               They use wood stove as much as possible  \n",
      "4                Cannot locate nameplate on air handler  \n",
      "5                                                   NaN  \n",
      "6                             Unkown btus for heat pump  \n",
      "7                                                   NaN  \n",
      "8     Could not locate size information, condenser m...  \n",
      "9                                                   NaN  \n",
      "10    Refrigerant lines running underground not appr...  \n",
      "11             No name brand affixed to unitUnkown btu.  \n",
      "12             Heat pump Tstat digital non programmable  \n",
      "13                                                  NaN  \n",
      "14                                                  NaN  \n",
      "15                   Unkown btus, no information given.  \n",
      "16                                                  NaN  \n",
      "17    Model number of air handler is furnace model n...  \n",
      "18                                                  NaN  \n",
      "19                                                  NaN  \n",
      "20                        Could not locate heating size  \n",
      "21                                                  NaN  \n",
      "22                                                  NaN  \n",
      "23                                                  NaN  \n",
      "24        Unknown fan type, filter, heating/cooling btu  \n",
      "25                                                  NaN  \n",
      "26                                                  NaN  \n",
      "27                                                  NaN  \n",
      "28                                                  NaN  \n",
      "29                                                  NaN  \n",
      "...                                                 ...  \n",
      "1238                            Could not see nameplate  \n",
      "1239                                                NaN  \n",
      "1240                                                NaN  \n",
      "1241                                                NaN  \n",
      "1242                                                NaN  \n",
      "1243                                                NaN  \n",
      "1244                                                NaN  \n",
      "1245                                                NaN  \n",
      "1246                                                NaN  \n",
      "1247                                                NaN  \n",
      "1248  No accessible nameplate. Used sparingly, only ...  \n",
      "1249                                                NaN  \n",
      "1250                                                NaN  \n",
      "1251                                                NaN  \n",
      "1252                                                NaN  \n",
      "1253                                                NaN  \n",
      "1254                                      Upstairs unit  \n",
      "1255                                                NaN  \n",
      "1256                                                NaN  \n",
      "1257                                                NaN  \n",
      "1258                                                NaN  \n",
      "1259                                                NaN  \n",
      "1260                                                NaN  \n",
      "1261                                                NaN  \n",
      "1262                                      Sizes unknown  \n",
      "1263                                                NaN  \n",
      "1264                                                NaN  \n",
      "1265                                                NaN  \n",
      "1266                                                NaN  \n",
      "1267                                                NaN  \n",
      "\n",
      "[1268 rows x 96 columns]\n"
     ]
    }
   ],
   "source": [
    "df = pd.read_csv(\"Mechanical_Cooling.csv\")\n",
    "print(df)"
   ]
  },
  {
   "cell_type": "code",
   "execution_count": 11,
   "metadata": {},
   "outputs": [
    {
     "name": "stdout",
     "output_type": "stream",
     "text": [
      "[0, 1, 2, 3, 4, 5, 6, 7, 8, 9, 10, 11, 12, 13, 14, 15, 16, 17, 18, 19, 20, 21, 22, 23, 24, 25, 26, 27, 28, 29, 30, 31, 32, 33, 34, 35, 36, 37, 38, 39, 40, 41, 42, 43, 44, 45, 46, 47, 48, 49, 50, 51, 52, 53, 54, 55, 56, 57, 58, 59, 60, 61, 62, 63, 64, 65, 66, 67, 68, 69, 70, 71, 72, 73, 74, 75, 76, 77, 78, 79, 80, 81, 82, 83, 84, 85, 86, 87, 88, 89, 90, 91, 92, 93, 94, 95, 96, 97, 98, 99, 100, 101, 102, 103, 104, 105, 106, 107, 108, 109, 110, 111, 112, 113, 114, 115, 116, 117, 118, 119, 120, 121, 122, 123, 124, 125, 126, 127, 128, 129, 130, 131, 132, 133, 134, 135, 136, 137, 138, 139, 140, 141, 142, 143, 144, 145, 146, 147, 148, 149, 150, 151, 152, 153, 154, 155, 156, 157, 158, 159, 160, 161, 162, 163, 164, 165, 166, 167, 168, 169, 170, 171, 172, 173, 174, 175, 176, 177, 178, 179, 180, 181, 182, 183, 184, 185, 186, 187, 188, 189, 190, 191, 192, 193, 194, 195, 196, 197, 198, 199, 200, 201, 202, 203, 204, 205, 206, 207, 208, 209, 210, 211, 212, 213, 214, 215, 216, 217, 218, 219, 220, 221, 222, 223, 224, 225, 226, 227, 228, 229, 230, 231, 232, 233, 234, 235, 236, 237, 238, 239, 240, 241, 242, 243, 244, 245, 246, 247, 248, 249, 250, 251, 252, 253, 254, 255, 256, 257, 258, 259, 260, 261, 262, 263, 264, 265, 266, 267, 268, 269, 270, 271, 272, 273, 274, 275, 276, 277, 278, 279, 280, 281, 282, 283, 284, 285, 286, 287, 288, 289, 290, 291, 292, 293, 294, 295, 296, 297, 298, 299, 300, 301, 302, 303, 304, 305, 306, 307, 308, 309, 310, 311, 312, 313, 314, 315, 316, 317, 318, 319, 320, 321, 322, 323, 324, 325, 326, 327, 328, 329, 330, 331, 332, 333, 334, 335, 336, 337, 338, 339, 340, 341, 342, 343, 344, 345, 346, 347, 348, 349, 350, 351, 352, 353, 354, 355, 356, 357, 358, 359, 360, 361, 362, 363, 364, 365, 366, 367, 368, 369, 370, 371, 372, 373, 374, 375, 376, 377, 378, 379, 380, 381, 382, 383, 384, 385, 386, 387, 388, 389, 390, 391, 392, 393, 394, 395, 396, 397, 398, 399, 400, 401, 402, 403, 404, 405, 406, 407, 408, 409, 410, 411, 412, 413, 414, 415, 416, 417, 418, 419, 420, 421, 422, 423, 424, 425, 426, 427, 428, 429, 430, 431, 432, 433, 434, 435, 436, 437, 438, 439, 440, 441, 442, 443, 444, 445, 446, 447, 448, 449, 450, 451, 452, 453, 454, 455, 456, 457, 458, 459, 460, 461, 462, 463, 464, 465, 466, 467, 468, 469, 470, 471, 472, 473, 474, 475, 476, 477, 478, 479, 480, 481, 482, 483, 484, 485, 486, 487, 488, 489, 490, 491, 492, 493, 494, 495, 496, 497, 498, 499, 500, 501, 502, 503, 504, 505, 506, 507, 508, 509, 510, 511, 512, 513, 514, 515, 516, 517, 518, 519, 520, 521, 522, 523, 524, 525, 526, 527, 528, 529, 530, 531, 532, 533, 534, 535, 536, 537, 538, 539, 540, 541, 542, 543, 544, 545, 546, 547, 548, 549, 550, 551, 552, 553, 554, 555, 556, 557, 558, 559, 560, 561, 562, 563, 564, 565, 566, 567, 568, 569, 570, 571, 572, 573, 574, 575, 576, 577, 578, 579, 580, 581, 582, 583, 584, 585, 586, 587, 588, 589, 590, 591, 592, 593, 594, 595, 596, 597, 598, 599, 600, 601, 602, 603, 604, 605, 606, 607, 608, 609, 610, 611, 612, 613, 614, 615, 616, 617, 618, 619, 620, 621, 622, 623, 624, 625, 626, 627, 628, 629, 630, 631, 632, 633, 634, 635, 636, 637, 638, 639, 640, 641, 642, 643, 644, 645, 646, 647, 648, 649, 650, 651, 652, 653, 654, 655, 656, 657, 658, 659, 660, 661, 662, 663, 664, 665, 666, 667, 668, 669, 670, 671, 672, 673, 674, 675, 676, 677, 678, 679, 680, 681, 682, 683, 684, 685, 686, 687, 688, 689, 690, 691, 692, 693, 694, 695, 696, 697, 698, 699, 700, 701, 702, 703, 704, 705, 706, 707, 708, 709, 710, 711, 712, 713, 714, 715, 716, 717, 718, 719, 720, 721, 722, 723, 724, 725, 726, 727, 728, 729, 730, 731, 732, 733, 734, 735, 736, 737, 738, 739, 740, 741, 742, 743, 744, 745, 746, 747, 748, 749, 750, 751, 752, 753, 754, 755, 756, 757, 758, 759, 760, 761, 762, 763, 764, 765, 766, 767, 768, 769, 770, 771, 772, 773, 774, 775, 776, 777, 778, 779, 780, 781, 782, 783, 784, 785, 786, 787, 788, 789, 790, 791, 792, 793, 794, 795, 796, 797, 798, 799, 800, 801, 802, 803, 804, 805, 806, 807, 808, 809, 810, 811, 812, 813, 814, 815, 816, 817, 818, 819, 820, 821, 822, 823, 824, 825, 826, 827, 828, 829, 830, 831, 832, 833, 834, 835, 836, 837, 838, 839, 840, 841, 842, 843, 844, 845, 846, 847, 848, 849, 850, 851, 852, 853, 854, 855, 856, 857, 858, 859, 860, 861, 862, 863, 864, 865, 866, 867, 868, 869, 870, 871, 872, 873, 874, 875, 876, 877, 878, 879, 880, 881, 882, 883, 884, 885, 886, 887, 888, 889, 890, 891, 892, 893, 894, 895, 896, 897, 898, 899, 900, 901, 902, 903, 904, 905, 906, 907, 908, 909, 910, 911, 912, 913, 914, 915, 916, 917, 918, 919, 920, 921, 922, 923, 924, 925, 926, 927, 928, 929, 930, 931, 932, 933, 934, 935, 936, 937, 938, 939, 940, 941, 942, 943, 944, 945, 946, 947, 948, 949, 950, 951, 952, 953, 954, 955, 956, 957, 958, 959, 960, 961, 962, 963, 964, 965, 966, 967, 968, 969, 970, 971, 972, 973, 974, 975, 976, 977, 978, 979, 980, 981, 982, 983, 984, 985, 986, 987, 988, 989, 990, 991, 992, 993, 994, 995, 996, 997, 998, 999, 1000, 1001, 1002, 1003, 1004, 1005, 1006, 1007, 1008, 1009, 1010, 1011, 1012, 1013, 1014, 1015, 1016, 1017, 1018, 1019, 1020, 1021, 1022, 1023, 1024, 1025, 1026, 1027, 1028, 1029, 1030, 1031, 1032, 1033, 1034, 1035, 1036, 1037, 1038, 1039, 1040, 1041, 1042, 1043, 1044, 1045, 1046, 1047, 1048, 1049, 1050, 1051, 1052, 1053, 1054, 1055, 1056, 1057, 1058, 1059, 1060, 1061, 1062, 1063, 1064, 1065, 1066, 1067, 1068, 1069, 1070, 1071, 1072, 1073, 1074, 1075, 1076, 1077, 1078, 1079, 1080, 1081, 1082, 1083, 1084, 1085, 1086, 1087, 1088, 1089, 1090, 1091, 1092, 1093, 1094, 1095, 1096, 1097, 1098, 1099, 1100, 1101, 1102, 1103, 1104, 1105, 1106, 1107, 1108, 1109, 1110, 1111, 1112, 1113, 1114, 1115, 1116, 1117, 1118, 1119, 1120, 1121, 1122, 1123, 1124, 1125, 1126, 1127, 1128, 1129, 1130, 1131, 1132, 1133, 1134, 1135, 1136, 1137, 1138, 1139, 1140, 1141, 1142, 1143, 1144, 1145, 1146, 1147, 1148, 1149, 1150, 1151, 1152, 1153, 1154, 1155, 1156, 1157, 1158, 1159, 1160, 1161, 1162, 1163, 1164, 1165, 1166, 1167, 1168, 1169, 1170, 1171, 1172, 1173, 1174, 1175, 1176, 1177, 1178, 1179, 1180, 1181, 1182, 1183, 1184, 1185, 1186, 1187, 1188, 1189, 1190, 1191, 1192, 1193, 1194, 1195, 1196, 1197, 1198, 1199, 1200, 1201, 1202, 1203, 1204, 1205, 1206, 1207, 1208, 1209, 1210, 1211, 1212, 1213, 1214, 1215, 1216, 1217, 1218, 1219, 1220, 1221, 1222, 1223, 1224, 1225, 1226, 1227, 1228, 1229, 1230, 1231, 1232, 1233, 1234, 1235, 1236, 1237, 1238, 1239, 1240, 1241, 1242, 1243, 1244, 1245, 1246, 1247, 1248, 1249, 1250, 1251, 1252, 1253, 1254, 1255, 1256, 1257, 1258, 1259, 1260, 1261, 1262, 1263, 1264, 1265, 1266, 1267]\n"
     ]
    }
   ],
   "source": [
    "index_list = df.index.tolist()\n",
    "print(index_list)"
   ]
  },
  {
   "cell_type": "code",
   "execution_count": null,
   "metadata": {},
   "outputs": [],
   "source": []
  },
  {
   "cell_type": "code",
   "execution_count": 12,
   "metadata": {},
   "outputs": [
    {
     "name": "stdout",
     "output_type": "stream",
     "text": [
      "[0.0, 0.0, 35800.0, 24000.0, 33591.67, 42000.0, 30000.0, 22630.0, 28600.0, 34600.0, 0.0, 23400.0, 36000.0, 18000.0, 30000.0, 43857.0, 34292.0, 49000.0, 36000.0, 17312.0, 27400.0, 23000.0, 18000.0, 18900.0, 36000.0, 48500.0, 48000.0, 15600.0, 24000.0, 24000.0, 30000.0, 40413.0, 35648.0, 23139.0, 30000.0, 45559.0, 34624.0, 36000.0, 33785.0, 30000.0, 30000.0, 30000.0, 28800.0, 46500.0, 30000.0, 40000.0, 34400.0, 23000.0, 0.0, 36000.0, 45000.0, 50000.0, 55500.0, 23400.0, 30000.0, 34000.0, 36000.0, 29000.0, 35400.0, 33600.0, 18000.0, 0.0, 0.0, 40000.0, 35500.0, 46000.0, 36000.0, 60000.0, 36000.0, 35800.0, 30000.0, 30000.0, 23800.0, 23000.0, 30000.0, 28000.0, 35400.0, 36000.0, 29000.0, 40000.0, 32000.0, 30000.0, 0.0, 36000.0, 42000.0, 29600.0, 42000.0, 23100.0, 35400.0, 28000.0, 24000.0, 28600.0, 23000.0, 36000.0, 29000.0, 24000.0, 24000.0, 47000.0, 24000.0, 34400.0, 28400.0, 30000.0, 34000.0, 24000.0, 25000.0, 54000.0, 28600.0, 33600.0, 24000.0, 45000.0, 30000.0, 30000.0, 34000.0, 33800.0, 33200.0, 39500.0, 36000.0, 0.0, 36000.0, 35000.0, 39640.0, 48000.0, 48000.0, 24000.0, 36000.0, 30000.0, 55500.0, 36000.0, 22800.0, 54000.0, 47000.0, 30000.0, 25200.0, 47500.0, 29200.0, 34600.0, 24800.0, 47500.0, 34600.0, 23800.0, 23200.0, 24600.0, 34500.0, 30000.0, 28600.0, 28800.0, 36800.0, 36000.0, 47500.0, 35400.0, 36400.0, 28400.0, 29860.0, 30000.0, 24000.0, 33400.0, 30000.0, 36000.0, 16200.0, 0.0, 33400.0, 28000.0, 27400.0, 45500.0, 47500.0, 35200.0, 27600.0, 40000.0, 47000.0, 28200.0, 36000.0, 31000.0, 30000.0, 57000.0, 24000.0, 30000.0, 30000.0, 24000.0, 23490.0, 30000.0, 42000.0, 36000.0, 42000.0, 30000.0, 41000.0, 35600.0, 24000.0, 36000.0, 48000.0, 47000.0, 0.0, 34600.0, 35400.0, 29625.0, 34600.0, 35400.0, 40000.0, 29709.0, 22400.0, 24000.0, 36000.0, 0.0, 34600.0, 24000.0, 0.0, 31000.0, 35293.0, 36066.0, 34600.0, 33400.0, 36000.0, 24000.0, 28400.0, 41500.0, 36000.0, 27000.0, 34000.0, 23000.0, 55500.0, 29000.0, 33600.0, 36000.0, 25000.0, 24400.0, 24000.0, 24000.0, 23000.0, 34000.0, 35000.0, 36000.0, 34800.0, 24000.0, 0.0, 30000.0, 0.0, 30000.0, 30000.0, 33600.0, 33600.0, 29000.0, 35100.0, 60000.0, 31600.0, 30000.0, 23200.0, 24000.0, 28600.0, 30000.0, 24000.0, 42000.0, 36000.0, 36000.0, 34800.0, 41000.0, 0.0, 24000.0, 24000.0, 30000.0, 30000.0, 28300.0, 30000.0, 24000.0, 0.0, 30400.0, 23400.0, 18000.0, 23200.0, 18000.0, 45000.0, 36000.0, 28500.0, 36000.0, 24000.0, 36000.0, 36000.0, 36000.0, 56600.0, 28300.0, 36000.0, 24000.0, 34600.0, 36000.0, 30000.0, 60000.0, 24000.0, 28200.0, 34600.0, 57000.0, 0.0, 24000.0, 33600.0, 17500.0, 28200.0, 30000.0, 24900.0, 0.0, 28500.0, 28000.0, 23400.0, 30000.0, 36000.0, 36000.0, 30000.0, 36000.0, 36000.0, 36000.0, 30000.0, 36000.0, 0.0, 0.0, 36000.0, 35200.0, 0.0, 36000.0, 30000.0, 36000.0, 36000.0, 0.0, 36000.0, 36000.0, 36000.0, 48000.0, 22100.0, 24000.0, 35400.0, 35500.0, 30000.0, 35500.0, 28000.0, 23000.0, 22900.0, 0.0, 42000.0, 46000.0, 42000.0, 36000.0, 28000.0, 42000.0, 34800.0, 0.0, 23300.0, 36000.0, 26400.0, 28700.0, 30000.0, 30000.0, 60000.0, 24000.0, 24000.0, 45500.0, 48000.0, 34900.0, 0.0, 30000.0, 34000.0, 60000.0, 23700.0, 35000.0, 24000.0, 0.0, 36200.0, 30000.0, 45500.0, 28500.0, 42000.0, 0.0, 42000.0, 29500.0, 28800.0, 0.0, 0.0, 42000.0, 25000.0, 23400.0, 22900.0, 42000.0, 0.0, 30000.0, 24000.0, 36000.0, 36000.0, 57500.0, 30000.0, 30000.0, 0.0, 60000.0, 31100.0, 30000.0, 22650.0, 23400.0, 23200.0, 24000.0, 35700.0, 60000.0, 30000.0, 27700.0, 36000.0, 24000.0, 36000.0, 36000.0, 28700.0, 36000.0, 29000.0, 36000.0, 30000.0, 34000.0, 0.0, 30000.0, 36000.0, 0.0, 36000.0, 48000.0, 24000.0, 24000.0, 0.0, 42000.0, 24000.0, 30000.0, 30000.0, 30000.0, 36000.0, 30000.0, 24000.0, 28300.0, 0.0, 30000.0, 30000.0, 34500.0, 36000.0, 42000.0, 60000.0, 24000.0, 30000.0, 30000.0, 29400.0, 30000.0, 24000.0, 30000.0, 30000.0, 24000.0, 42000.0, 24000.0, 30000.0, 36000.0, 36000.0, 30000.0, 42000.0, 48000.0, 36000.0, 24000.0, 36000.0, 30000.0, 34000.0, 48000.0, 42000.0, 42000.0, 36000.0, 35000.0, 36000.0, 48000.0, 29400.0, 30000.0, 42000.0, 0.0, 36000.0, 24000.0, 60000.0, 23600.0, 50200.0, 48000.0, 40500.0, 39000.0, 35000.0, 30000.0, 42000.0, 29900.0, 24000.0, 30000.0, 36600.0, 35200.0, 30000.0, 36000.0, 42500.0, 28800.0, 30000.0, 36000.0, 30000.0, 0.0, 24000.0, 30000.0, 24000.0, 30000.0, 34400.0, 0.0, 30000.0, 34100.0, 0.0, 42000.0, 24000.0, 0.0, 24200.0, 36000.0, 36000.0, 23400.0, 33800.0, 39500.0, 0.0, 36000.0, 30000.0, 0.0, 39500.0, 28500.0, 0.0, 0.0, 22800.0, 30000.0, 34000.0, 0.0, 48000.0, 27600.0, 36000.0, 23500.0, 27600.0, 30000.0, 30000.0, 24000.0, 33400.0, 18000.0, 24000.0, 18000.0, 34000.0, 36000.0, 30000.0, 60000.0, 18000.0, 29200.0, 60000.0, 36000.0, 24000.0, 22900.0, 48000.0, 45000.0, 60000.0, 34600.0, 30000.0, 24000.0, 29200.0, 24000.0, 24000.0, 33400.0, 30000.0, 40000.0, 45500.0, 30000.0, 35400.0, 30000.0, 24000.0, 28000.0, 25400.0, 36000.0, 36000.0, 36000.0, 17600.0, 36000.0, 48000.0, 28700.0, 24000.0, 23500.0, 28000.0, 36000.0, 0.0, 36000.0, 33800.0, 36000.0, 0.0, 0.0, 40000.0, 18000.0, 36000.0, 56000.0, 48000.0, 18000.0, 45500.0, 28500.0, 36000.0, 30000.0, 0.0, 30000.0, 36000.0, 24000.0, 36000.0, 36000.0, 36000.0, 34800.0, 30000.0, 30000.0, 48000.0, 30000.0, 24000.0, 24000.0, 36000.0, 30000.0, 30000.0, 35200.0, 56500.0, 23800.0, 30000.0, 30000.0, 36000.0, 48000.0, 24000.0, 24000.0, 0.0, 0.0, 0.0, 0.0, 0.0, 0.0, 0.0, 0.0, 0.0, 0.0, 0.0, 0.0, 0.0, 0.0, 0.0, 10000.0, 5000.0, 5300.0, 6000.0, 12000.0, 0.0, 0.0, 0.0, 0.0, 0.0, 0.0, 0.0, 0.0, 0.0, 0.0, 0.0, 0.0, 0.0, 0.0, 0.0, 0.0, 0.0, 0.0, 0.0, 24000.0, 48000.0, 29300.0, 0.0, 36500.0, 38200.0, 70700.0, 35000.0, 0.0, 40100.0, 0.0, 0.0, 0.0, 0.0, 0.0, 0.0, 0.0, 0.0, 0.0, 0.0, 0.0, 0.0, 0.0, 0.0, 0.0, 0.0, 0.0, 0.0, 0.0, 0.0, 0.0, 0.0, 0.0, 0.0, 0.0, 0.0, 0.0, 0.0, 0.0, 0.0, 0.0, 0.0, 0.0, 0.0, 0.0, 0.0, 0.0, 0.0, 0.0, 0.0, 0.0, 0.0, 0.0, 0.0, 0.0, 0.0, 0.0, 0.0, 0.0, 0.0, 0.0, 0.0, 0.0, 0.0, 0.0, 0.0, 0.0, 0.0, 0.0, 0.0, 0.0, 0.0, 0.0, 0.0, 0.0, 0.0, 0.0, 0.0, 0.0, 0.0, 0.0, 0.0, 0.0, 0.0, 0.0, 0.0, 0.0, 0.0, 0.0, 0.0, 0.0, 0.0, 0.0, 0.0, 0.0, 0.0, 0.0, 0.0, 0.0, 0.0, 0.0, 0.0, 0.0, 0.0, 0.0, 0.0, 0.0, 12000.0, 0.0, 6000.0, 5000.0, 0.0, 25000.0, 6000.0, 0.0, 12500.0, 10000.0, 12000.0, 5000.0, 10000.0, 0.0, 8000.0, 10000.0, 13200.0, 13500.0, 12000.0, 8000.0, 5000.0, 0.0, 12000.0, 8000.0, 8000.0, 10000.0, 0.0, 5000.0, 12000.0, 5000.0, 0.0, 8000.0, 0.0, 0.0, 15100.0, 0.0, 5100.0, 8000.0, 10000.0, 0.0, 12000.0, 0.0, 0.0, 6000.0, 8000.0, 0.0, 0.0, 7000.0, 5000.0, 5000.0, 6000.0, 5000.0, 6000.0, 14000.0, 9000.0, 12000.0, 8000.0, 12000.0, 12000.0, 0.0, 5000.0, 0.0, 0.0, 0.0, 0.0, 0.0, 0.0, 5000.0, 10000.0, 0.0, 5000.0, 10000.0, 10000.0, 8000.0, 10000.0, 12000.0, 9700.0, 6000.0, 0.0, 5150.0, 5200.0, 10500.0, 5050.0, 0.0, 0.0, 8000.0, 6000.0, 0.0, 5000.0, 5200.0, 0.0, 12000.0, 0.0, 10000.0, 5000.0, 5200.0, 11600.0, 0.0, 12000.0, 5000.0, 13000.0, 12000.0, 12000.0, 0.0, 8000.0, 8000.0, 0.0, 0.0, 5000.0, 12000.0, 10000.0, 0.0, 5200.0, 0.0, 10000.0, 0.0, 8000.0, 5000.0, 8000.0, 0.0, 5000.0, 0.0, 5000.0, 5200.0, 8000.0, 0.0, 0.0, 12000.0, 10000.0, 10000.0, 8000.0, 5000.0, 0.0, 12000.0, 9000.0, 8000.0, 12000.0, 0.0, 5200.0, 8000.0, 10150.0, 5000.0, 5000.0, 10000.0, 6000.0, 12000.0, 5000.0, 0.0, 13500.0, 6000.0, 5000.0, 8000.0, 10000.0, 8000.0, 12000.0, 8000.0, 11500.0, 0.0, 14000.0, 5150.0, 12000.0, 12000.0, 0.0, 0.0, 5000.0, 0.0, 12000.0, 11000.0, 8000.0, 0.0, 10000.0, 9000.0, 12000.0, 0.0, 12000.0, 12000.0, 8000.0, 10000.0, 12000.0, 0.0, 0.0, 0.0, 0.0, 8000.0, 0.0, 0.0, 10000.0, 0.0, 0.0, 0.0, 5000.0, 8000.0, 8000.0, 10000.0, 0.0, 0.0, 0.0, 0.0, 5350.0, 6000.0, 12000.0, 10000.0, 5200.0, 8000.0, 15100.0, 10000.0, 10000.0, 0.0, 0.0, 5000.0, 10000.0, 5000.0, 10000.0, 0.0, 10000.0, 0.0, 10000.0, 10000.0, 0.0, 0.0, 0.0, 10000.0, 0.0, 0.0, 0.0, 5200.0, 5200.0, 6000.0, 11500.0, 0.0, 13000.0, 0.0, 5200.0, 6000.0, 0.0, 0.0, 5200.0, 8000.0, 0.0, 13800.0, 0.0, 0.0, 8000.0, 0.0, 12000.0, 0.0, 10000.0, 0.0, 5200.0, 0.0, 12000.0, 0.0, 5050.0, 0.0, 0.0, 0.0, 0.0, 5000.0, 5000.0, 5300.0, 9000.0, 5300.0, 12000.0, 5000.0, 6000.0, 8000.0, 18500.0, 8000.0, 8200.0, 0.0, 8200.0, 11600.0, 0.0, 0.0, 8000.0, 0.0, 5350.0, 0.0, 0.0, 8000.0, 12000.0, 0.0, 0.0, 6000.0, 0.0, 6100.0, 10000.0, 5000.0, 0.0, 10000.0, 5000.0, 0.0, 0.0, 0.0, 0.0, 5000.0, 9000.0, 5200.0, 8000.0, 6000.0, 0.0, 4100.0, 14000.0, 0.0, 0.0, 0.0, 0.0, 5000.0, 11000.0, 11000.0, 5000.0, 10000.0, 0.0, 6000.0, 10000.0, 10000.0, 12000.0, 0.0, 5300.0, 6000.0, 8000.0, 5000.0, 0.0, 8000.0, 0.0, 10000.0, 12000.0, 14500.0, 0.0, 0.0, 5000.0, 0.0, 0.0, 0.0, 0.0, 6000.0, 8000.0, 0.0, 5200.0, 5000.0, 8000.0, 5000.0, 0.0, 10000.0, 5000.0, 6050.0, 5000.0, 8000.0, 5000.0, 5000.0, 5300.0, 5050.0, 5000.0, 10500.0, 6000.0, 12000.0, 0.0, 5200.0, 5000.0, 0.0, 6000.0, 0.0, 0.0, 5200.0, 0.0, 13000.0, 15100.0, 0.0, 8000.0, 12000.0, 8000.0, 11800.0, 0.0, 0.0, 8000.0, 5002.0, 12000.0, 8000.0, 11200.0, 11200.0, 5200.0, 0.0, 6000.0, 9000.0, 5000.0, 0.0, 5050.0, 5000.0, 5000.0, 18500.0, 10000.0, 0.0, 6500.0, 5000.0, 0.0, 5000.0, 10800.0, 8000.0, 10000.0, 10000.0, 0.0, 0.0, 10000.0, 14000.0, 0.0, 5250.0, 10000.0, 6000.0, 5350.0, 12000.0, 8000.0, 0.0, 8000.0, 14000.0, 0.0, 6500.0, 5100.0, 5000.0, 5000.0, 8000.0, 14000.0, 10000.0, 0.0, 0.0, 12000.0, 0.0, 0.0, 0.0, 0.0, 0.0, 0.0, 0.0, 0.0, 0.0, 0.0, 0.0, 0.0, 0.0, 0.0, 0.0, 0.0, 0.0, 0.0, 0.0, 0.0, 0.0, 0.0, 0.0, 0.0, 0.0, 30000.0, 30000.0, 56000.0, 0.0, 0.0, 0.0, 36000.0, 36000.0, 25167.0, 0.0, 42000.0, 30000.0, 30000.0, 36000.0, 24000.0, 36000.0, 18000.0, 0.0, 35000.0, 36265.0, 5400.0, 14000.0, 12000.0, 12000.0, 5200.0, 0.0, 5000.0, 5200.0, 8000.0, 11500.0, 0.0, 0.0, 8000.0, 11800.0, 0.0, 10000.0, 10000.0, 8000.0, 0.0, 0.0, 0.0, 17000.0, 48000.0, 0.0, 23400.0, 0.0, 0.0, 0.0, 0.0, 0.0, 0.0, 0.0, 0.0, 5200.0, 36000.0, 0.0, 5000.0, 5250.0, 10000.0, 6000.0]\n"
     ]
    }
   ],
   "source": [
    "capacity_list = df[\"Cooling\"].tolist()\n",
    "print(capacity_list)"
   ]
  },
  {
   "cell_type": "code",
   "execution_count": 605,
   "metadata": {},
   "outputs": [],
   "source": [
    "input_dir= 'C:/Users/veronikalubeck/Desktop/Data/RBSA-II-Combined-Database'\n",
    "\n",
    "os.chdir('/Users/veronikalubeck/Desktop/Data/RBSA-II-Combined-Database')\n",
    "data=pd.read_csv('Windows.csv')\n"
   ]
  },
  {
   "cell_type": "code",
   "execution_count": 606,
   "metadata": {},
   "outputs": [
    {
     "data": {
      "text/plain": [
       "True"
      ]
     },
     "execution_count": 606,
     "metadata": {},
     "output_type": "execute_result"
    }
   ],
   "source": [
    "'Window UA' in data_filtered.columns"
   ]
  },
  {
   "cell_type": "code",
   "execution_count": 617,
   "metadata": {},
   "outputs": [
    {
     "ename": "TypeError",
     "evalue": "unsupported operand type(s) for /: 'str' and 'int'",
     "output_type": "error",
     "traceback": [
      "\u001b[0;31m---------------------------------------------------------------------------\u001b[0m",
      "\u001b[0;31mTypeError\u001b[0m                                 Traceback (most recent call last)",
      "\u001b[0;32m<ipython-input-617-db72b34a977f>\u001b[0m in \u001b[0;36m<module>\u001b[0;34m()\u001b[0m\n\u001b[1;32m      1\u001b[0m \u001b[0mdata_filtered\u001b[0m\u001b[0;34m=\u001b[0m\u001b[0mdata\u001b[0m\u001b[0;34m[\u001b[0m\u001b[0mdata\u001b[0m\u001b[0;34m.\u001b[0m\u001b[0mDB_SiteID\u001b[0m\u001b[0;34m==\u001b[0m\u001b[0;34m\"SITE_00185\"\u001b[0m\u001b[0;34m]\u001b[0m\u001b[0;34m\u001b[0m\u001b[0m\n\u001b[0;32m----> 2\u001b[0;31m \u001b[0mmean_floor\u001b[0m\u001b[0;34m=\u001b[0m\u001b[0mnp\u001b[0m\u001b[0;34m.\u001b[0m\u001b[0mmean\u001b[0m\u001b[0;34m(\u001b[0m\u001b[0mnp\u001b[0m\u001b[0;34m.\u001b[0m\u001b[0marray\u001b[0m\u001b[0;34m(\u001b[0m\u001b[0mdata_filtered\u001b[0m\u001b[0;34m[\u001b[0m\u001b[0;34m'Window UA'\u001b[0m\u001b[0;34m]\u001b[0m\u001b[0;34m)\u001b[0m\u001b[0;34m)\u001b[0m\u001b[0;34m\u001b[0m\u001b[0m\n\u001b[0m",
      "\u001b[0;32m/Users/veronikalubeck/opt/anaconda2/lib/python2.7/site-packages/numpy/core/fromnumeric.pyc\u001b[0m in \u001b[0;36mmean\u001b[0;34m(a, axis, dtype, out, keepdims)\u001b[0m\n\u001b[1;32m   3116\u001b[0m \u001b[0;34m\u001b[0m\u001b[0m\n\u001b[1;32m   3117\u001b[0m     return _methods._mean(a, axis=axis, dtype=dtype,\n\u001b[0;32m-> 3118\u001b[0;31m                           out=out, **kwargs)\n\u001b[0m\u001b[1;32m   3119\u001b[0m \u001b[0;34m\u001b[0m\u001b[0m\n\u001b[1;32m   3120\u001b[0m \u001b[0;34m\u001b[0m\u001b[0m\n",
      "\u001b[0;32m/Users/veronikalubeck/opt/anaconda2/lib/python2.7/site-packages/numpy/core/_methods.pyc\u001b[0m in \u001b[0;36m_mean\u001b[0;34m(a, axis, dtype, out, keepdims)\u001b[0m\n\u001b[1;32m     85\u001b[0m             \u001b[0mret\u001b[0m \u001b[0;34m=\u001b[0m \u001b[0mret\u001b[0m\u001b[0;34m.\u001b[0m\u001b[0mdtype\u001b[0m\u001b[0;34m.\u001b[0m\u001b[0mtype\u001b[0m\u001b[0;34m(\u001b[0m\u001b[0mret\u001b[0m \u001b[0;34m/\u001b[0m \u001b[0mrcount\u001b[0m\u001b[0;34m)\u001b[0m\u001b[0;34m\u001b[0m\u001b[0m\n\u001b[1;32m     86\u001b[0m     \u001b[0;32melse\u001b[0m\u001b[0;34m:\u001b[0m\u001b[0;34m\u001b[0m\u001b[0m\n\u001b[0;32m---> 87\u001b[0;31m         \u001b[0mret\u001b[0m \u001b[0;34m=\u001b[0m \u001b[0mret\u001b[0m \u001b[0;34m/\u001b[0m \u001b[0mrcount\u001b[0m\u001b[0;34m\u001b[0m\u001b[0m\n\u001b[0m\u001b[1;32m     88\u001b[0m \u001b[0;34m\u001b[0m\u001b[0m\n\u001b[1;32m     89\u001b[0m     \u001b[0;32mreturn\u001b[0m \u001b[0mret\u001b[0m\u001b[0;34m\u001b[0m\u001b[0m\n",
      "\u001b[0;31mTypeError\u001b[0m: unsupported operand type(s) for /: 'str' and 'int'"
     ]
    }
   ],
   "source": [
    "data_filtered=data[data.DB_SiteID==\"SITE_00185\"]\n",
    "mean_floor=np.mean(np.array(data_filtered['Window UA']))"
   ]
  },
  {
   "cell_type": "code",
   "execution_count": 620,
   "metadata": {},
   "outputs": [
    {
     "data": {
      "text/plain": [
       "str"
      ]
     },
     "execution_count": 620,
     "metadata": {},
     "output_type": "execute_result"
    }
   ],
   "source": [
    "type(data_filtered['Window UA'][0])"
   ]
  },
  {
   "cell_type": "code",
   "execution_count": null,
   "metadata": {},
   "outputs": [],
   "source": []
  },
  {
   "cell_type": "code",
   "execution_count": null,
   "metadata": {},
   "outputs": [],
   "source": []
  },
  {
   "cell_type": "code",
   "execution_count": null,
   "metadata": {},
   "outputs": [],
   "source": []
  }
 ],
 "metadata": {
  "kernelspec": {
   "display_name": "Python 2",
   "language": "python",
   "name": "python2"
  },
  "language_info": {
   "codemirror_mode": {
    "name": "ipython",
    "version": 2
   },
   "file_extension": ".py",
   "mimetype": "text/x-python",
   "name": "python",
   "nbconvert_exporter": "python",
   "pygments_lexer": "ipython2",
   "version": "2.7.16"
  }
 },
 "nbformat": 4,
 "nbformat_minor": 2
}
