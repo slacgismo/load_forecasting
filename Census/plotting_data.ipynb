{
 "cells": [
  {
   "cell_type": "code",
   "execution_count": 5,
   "metadata": {},
   "outputs": [],
   "source": [
    "import numpy as np\n",
    "import pandas as pd"
   ]
  },
  {
   "cell_type": "code",
   "execution_count": 13,
   "metadata": {},
   "outputs": [],
   "source": [
    "import csv\n",
    "import matplotlib.pyplot as plt\n",
    "import os                                                 "
   ]
  },
  {
   "cell_type": "code",
   "execution_count": 19,
   "metadata": {},
   "outputs": [
    {
     "name": "stdout",
     "output_type": "stream",
     "text": [
      "['Zipcode', 'City', 'Latitude', 'Longitude', 'Population', 'Density', 'Occupancy', 'Value', 'Income']\n",
      "['59421', 'Cascade MT', '47.2', '-111.7', '1831', '3', '0.56', '193.8', '52.2']\n",
      "['59601', 'Helena MT', '46.5', '-112.1', '29283', '212', '0.94', '199.9', '52.2']\n",
      "['59715', 'Bozeman MT', '45.7', '-111.0', '31567', '68', '0.89', '328.5', '47.9']\n",
      "['59759', 'Whitehall MT', '45.9', '-112.2', '3643', '8', '0.86', '165.4', '50.6']\n",
      "['59840', 'Hamilton MT', '46.2', '-114.2', '13052', '28', '0.88', '204.7', '33.7']\n",
      "['83338', 'Jerome ID', '42.7', '-114.3', '19782', '72', '0.93', '137.5', '40.1']\n",
      "['83352', 'Shoshone ID', '43.0', '-114.4', '3330', '15', '0.77', '118.6', '41.1']\n",
      "['83501', 'Lewiston ID', '46.2', '-116.9', '34230', '127', '0.94', '167.4', '46.0']\n",
      "['83605', 'Caldwell ID', '43.66', '-116.65', '39649', '1423', '0.91', '98.1', '37.7']\n",
      "['83617', 'Emmett ID', '44.0', '-116.5', '15422', '66', '0.91', '144.5', '42.4']\n",
      "['83634', 'Kuna ID', '43.3', '-116.3', '24494', '164', '0.93', '136.4', '59.2']\n",
      "['83642', 'Meridian ID', '43.6', '-116.4', '37008', '901', '0.94', '184.3', '57.0']\n",
      "['83647', 'Mountain Home ID', '43.4', '-115.5', '20789', '14', '0.85', '137.5', '44.9']\n",
      "['83687', 'Nampa ID', '43.6', '-116.5', '29697', '597', '0.9', '124.0', '42.8']\n",
      "['83702', 'Boise ID', '43.7', '-116.1', '22293', '548', '0.89', '286.1', '43.7']\n",
      "['83712', 'Boise ID', '43.63', '-116.13', '8148', '355', '0.94', '294.4', '65.0']\n",
      "['83815', 'Coeur D Alene ID', '47.73', '-116.79', '31015', '1915', '0.93', '183.0', '44.7']\n",
      "['83843', 'Moscow ID', '46.7', '-116.9', '25866', '214', '0.92', '198.5', '35.0']\n",
      "['83864', 'Sandpoint ID', '48.4', '-116.4', '17076', '37', '0.77', '241.9', '43.0']\n",
      "['97008', 'Beaverton OR', '45.46', '-122.8', '28969', '5842', '0.94', '270.1', '52.9']\n",
      "['97035', 'Lake Oswego OR', '45.41', '-122.72', '23912', '3964', '0.94', '412.8', '72.1']\n",
      "['97111', 'Carlton OR', '45.3', '-123.3', '3156', '81', '0.91', '192.5', '65.0']\n",
      "['97115', 'Dundee OR', '45.26', '-123.03', '4139', '348', '0.94', '249.6', '69.5']\n",
      "['97123', 'Hillsboro OR', '45.4', '-123.0', '44537', '830', '0.95', '236.8', '64.5']\n",
      "['97128', 'Mcminnville OR', '45.2', '-123.3', '36141', '338', '0.94', '213.2', '44.5']\n",
      "['97218', 'Portland OR', '45.58', '-122.59', '14561', '2084', '0.94', '250.8', '47.0']\n",
      "['97219', 'Portland OR', '45.45', '-122.7', '38709', '3293', '0.94', '344.8', '77.7']\n",
      "['97220', 'Portland OR', '45.56', '-122.55', '28495', '3965', '0.94', '205.5', '47.3']\n",
      "['97222', 'Portland OR', '45.44', '-122.62', '34979', '4134', '0.93', '227.3', '49.0']\n",
      "['97225', 'Portland OR', '45.5', '-122.78', '24176', '3663', '0.93', '398.6', '71.7']\n",
      "['97230', 'Portland OR', '45.55', '-122.5', '39752', '2865', '0.94', '230.5', '46.3']\n",
      "['97232', 'Portland OR', '45.53', '-122.64', '11472', '6112', '0.93', '445.5', '45.0']\n",
      "['97239', 'Portland OR', '45.49', '-122.69', '14150', '3984', '0.88', '432.3', '74.8']\n",
      "['97301', 'Salem OR', '44.96', '-123.0', '53518', '4622', '0.92', '150.1', '37.0']\n",
      "['97317', 'Salem OR', '44.9', '-122.9', '24355', '443', '0.94', '208.3', '50.2']\n",
      "['97322', 'Albany OR', '44.6', '-123.0', '34039', '546', '0.94', '161.9', '42.4']\n",
      "['97352', 'Jefferson OR', '44.7', '-123.0', '5604', '128', '0.94', '195.9', '47.4']\n",
      "['97355', 'Lebanon OR', '44.5', '-122.8', '28613', '137', '0.91', '166.7', '46.6']\n",
      "['97361', 'Monmouth OR', '44.8', '-123.4', '11258', '81', '0.93', '215.8', '38.8']\n",
      "['97366', 'South Beach OR', '44.58', '-124.05', '1460', '141', '0.66', '242.9', '53.1']\n",
      "['97405', 'Eugene OR', '43.9', '-123.1', '44645', '294', '0.95', '279.9', '56.2']\n",
      "['97411', 'Bandon OR', '43.1', '-124.4', '6953', '52', '0.82', '231.3', '38.5']\n",
      "['97415', 'Brookings OR', '42.3', '-124.1', '14051', '94', '0.84', '241.5', '42.0']\n",
      "['98005', 'Bellevue WA', '47.62', '-122.17', '17714', '2361', '0.93', '568.7', '84.7']\n",
      "['98012', 'Bothell WA', '47.84', '-122.2', '51136', '3338', '0.94', '350.0', '88.2']\n",
      "['98021', 'Bothell WA', '47.8', '-122.2', '26722', '2634', '0.95', '351.3', '92.1']\n",
      "['98033', 'Kirkland WA', '47.67', '-122.19', '34338', '3696', '0.91', '528.3', '103.2']\n",
      "['98034', 'Kirkland WA', '47.72', '-122.21', '40407', '4428', '0.94', '364.9', '77.6']\n",
      "['98043', 'Mountlake Terrace WA', '47.79', '-122.31', '19943', '4886', '0.95', '261.0', '58.8']\n",
      "['98058', 'Renton WA', '47.44', '-122.12', '41938', '2215', '0.95', '302.2', '77.7']\n",
      "['98059', 'Renton WA', '47.5', '-122.11', '34463', '1725', '0.95', '363.5', '91.4']\n",
      "['98087', 'Lynnwood WA', '47.87', '-122.26', '29976', '5384', '0.94', '273.8', '63.6']\n",
      "['98105', 'Seattle WA', '47.66', '-122.3', '43924', '10643', '0.92', '613.9', '45.5']\n",
      "['98106', 'Seattle WA', '47.55', '-122.35', '22873', '4161', '0.9', '281.7', '57.8']\n",
      "['98107', 'Seattle WA', '47.66', '-122.38', '21147', '9602', '0.91', '447.7', '67.5']\n",
      "['98108', 'Seattle WA', '47.54', '-122.31', '22374', '2989', '0.93', '326.5', '52.2']\n",
      "['98110', 'Bainbridge Island WA', '47.6', '-122.5', '23025', '834', '0.89', '551.7', '95.4']\n",
      "['98112', 'Seattle WA', '47.62', '-122.3', '21077', '6667', '0.93', '754.2', '96.0']\n",
      "['98115', 'Seattle WA', '47.68', '-122.29', '46206', '7018', '0.94', '492.7', '84.1']\n",
      "['98117', 'Seattle WA', '47.69', '-122.38', '31365', '7953', '0.96', '463.5', '86.9']\n",
      "['98122', 'Seattle WA', '47.61', '-122.3', '31454', '13594', '0.91', '407.6', '53.5']\n",
      "['98133', 'Seattle WA', '47.74', '-122.34', '44555', '6279', '0.92', '326.4', '51.4']\n",
      "['98144', 'Seattle WA', '47.58', '-122.3', '26881', '7895', '0.9', '391.0', '55.9']\n",
      "['98146', 'Seattle WA', '47.5', '-122.36', '25922', '5573', '0.94', '308.4', '56.8']\n",
      "['98223', 'Arlington WA', '48.2', '-122.0', '40815', '128', '0.92', '269.2', '65.8']\n",
      "['98229', 'Bellingham WA', '48.7', '-122.4', '30321', '617', '0.91', '302.5', '59.3']\n",
      "['98277', 'Oak Harbor WA', '48.3', '-122.7', '37823', '670', '0.89', '243.4', '53.5']\n",
      "['98333', 'Fox Island WA', '47.25', '-122.63', '3633', '696', '0.88', '462.4', '93.1']\n",
      "['98374', 'Puyallup WA', '47.13', '-122.25', '37360', '2358', '0.94', '243.2', '74.6']\n",
      "['98409', 'Tacoma WA', '47.21', '-122.47', '22989', '3234', '0.9', '166.7', '46.8']\n",
      "['98422', 'Tacoma WA', '47.29', '-122.39', '20151', '3017', '0.95', '318.0', '82.5']\n",
      "['98445', 'Tacoma WA', '47.13', '-122.41', '29661', '2847', '0.94', '199.3', '59.9']\n",
      "['98513', 'Olympia WA', '47.0', '-122.7', '31975', '541', '0.93', '236.5', '68.5']\n",
      "['98589', 'Tenino WA', '46.8', '-122.8', '7320', '80', '0.93', '217.9', '55.7']\n",
      "['98801', 'Wenatchee WA', '47.4', '-120.4', '40977', '252', '0.93', '225.9', '51.1']\n",
      "['98802', 'East Wenatchee WA', '47.5', '-120.2', '28719', '160', '0.93', '220.1', '56.8']\n",
      "['98837', 'Moses Lake WA', '47.2', '-119.3', '39722', '82', '0.91', '170.7', '49.0']\n",
      "['98840', 'Okanogan WA', '48.3', '-119.4', '4851', '12', '0.88', '151.3', '45.0']\n",
      "['98902', 'Yakima WA', '46.6', '-120.53', '46322', '5133', '0.95', '140.5', '36.9']\n",
      "['98930', 'Grandview WA', '46.27', '-119.9', '15252', '321', '0.95', '135.9', '44.5']\n",
      "['99001', 'Airway Heights WA', '47.64', '-117.58', '6151', '866', '0.89', '139.7', '36.8']\n",
      "['99004', 'Cheney WA', '47.4', '-117.6', '18376', '55', '0.92', '189.2', '39.4']\n",
      "['99141', 'Kettle Falls WA', '48.7', '-118.1', '5240', '10', '0.83', '167.2', '38.6']\n",
      "['99156', 'Newport WA', '48.3', '-117.3', '8114', '25', '0.73', '193.0', '37.1']\n",
      "['99206', 'Spokane WA', '47.6', '-117.2', '34802', '1487', '0.94', '182.7', '49.4']\n",
      "['99208', 'Spokane WA', '47.8', '-117.5', '49193', '1001', '0.94', '210.8', '53.8']\n",
      "['99224', 'Spokane WA', '47.6', '-117.5', '18289', '156', '0.92', '226.6', '56.1']\n",
      "['99336', 'Kennewick WA', '46.21', '-119.18', '48753', '3653', '0.94', '146.1', '41.9']\n",
      "['99353', 'West Richland WA', '46.32', '-119.4', '13306', '511', '0.96', '194.6', '80.5']\n"
     ]
    }
   ],
   "source": [
    "userhome = os.path.expanduser('~')\n",
    "csvfile= userhome + r'/Desktop/load_forecasting/loadinsight/demographics/demographics.csv'\n",
    "with open(csvfile,'r')as f:\n",
    "    data = csv.reader(f)\n",
    "    for row in data:\n",
    "        print(row)"
   ]
  },
  {
   "cell_type": "code",
   "execution_count": 20,
   "metadata": {},
   "outputs": [],
   "source": [
    "import matplotlib.pyplot as plt"
   ]
  },
  {
   "cell_type": "code",
   "execution_count": 30,
   "metadata": {},
   "outputs": [
    {
     "data": {
      "image/png": "[encoded data removed]",
      "text/plain": [
       "<Figure size 720x216 with 1 Axes>"
      ]
     },
     "metadata": {
      "needs_background": "light"
     },
     "output_type": "display_data"
    }
   ],
   "source": [
    "names = ['Cas, MT', 'Hel, MT', 'Boz, MT']\n",
    "values = [1831, 29283, 31567]\n",
    "\n",
    "plt.figure(figsize=(10, 3))\n",
    "\n",
    "plt.subplot(131)\n",
    "plt.bar(names, values)\n",
    "plt.suptitle('Categorical Plotting')\n",
    "plt.show()"
   ]
  },
  {
   "cell_type": "code",
   "execution_count": 29,
   "metadata": {},
   "outputs": [
    {
     "data": {
      "image/png": "[encoded data removed]",
      "text/plain": [
       "<Figure size 720x216 with 1 Axes>"
      ]
     },
     "metadata": {
      "needs_background": "light"
     },
     "output_type": "display_data"
    }
   ],
   "source": [
    "names = ['Cas, MT', 'Hel, MT', 'Boz, MT']\n",
    "values = [1831, 29283, 31567]\n",
    "\n",
    "plt.figure(figsize=(10, 3))\n",
    "\n",
    "plt.subplot(132)\n",
    "plt.scatter(names, values)\n",
    "plt.suptitle('Categorical Plotting')\n",
    "plt.show()"
   ]
  },
  {
   "cell_type": "code",
   "execution_count": 28,
   "metadata": {},
   "outputs": [
    {
     "data": {
      "image/png": "[encoded data removed]",
      "text/plain": [
       "<Figure size 720x216 with 1 Axes>"
      ]
     },
     "metadata": {
      "needs_background": "light"
     },
     "output_type": "display_data"
    }
   ],
   "source": [
    "names = ['Cas, MT', 'Hel, MT', 'Boz, MT']\n",
    "values = [1831, 29283, 31567]\n",
    "\n",
    "plt.figure(figsize=(10, 3))\n",
    "\n",
    "plt.subplot(133)\n",
    "plt.plot(names, values)\n",
    "plt.suptitle('Categorical Plotting')\n",
    "plt.show()"
   ]
  },
  {
   "cell_type": "code",
   "execution_count": null,
   "metadata": {},
   "outputs": [],
   "source": []
  }
 ],
 "metadata": {
  "kernelspec": {
   "display_name": "Python 2",
   "language": "python",
   "name": "python2"
  },
  "language_info": {
   "codemirror_mode": {
    "name": "ipython",
    "version": 2
   },
   "file_extension": ".py",
   "mimetype": "text/x-python",
   "name": "python",
   "nbconvert_exporter": "python",
   "pygments_lexer": "ipython2",
   "version": "2.7.16"
  }
 },
 "nbformat": 4,
 "nbformat_minor": 2
}
